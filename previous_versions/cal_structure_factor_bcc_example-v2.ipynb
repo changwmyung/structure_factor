{
 "cells": [
  {
   "cell_type": "markdown",
   "metadata": {},
   "source": [
    "## Structure factor\n",
    "\n",
    "Some of useful information regarding the structure factor is presented as below:\n",
    "\n",
    " - https://en.wikipedia.org/wiki/Structure_factor\n",
    " - https://jscatter.readthedocs.io/en/latest/structurefactor.html\n",
    " - https://pure.mpg.de/rest/items/item_2055745/component/file_2055744/content\n",
    " - https://scipython.com/book/chapter-6-numpy/additional-problems/structure-factors-for-perfect-crystals/\n",
    " \n",
    "In this simple tutorial, I approach in two different directions to calculate the structure factor $S(q)$: (1) By directly calculate $S(q)=\\frac{1}{N} \\sum_j^N \\sum_k^N e^{-iq(R_j-R_k)}$. Or instead of calculating the intensity, I calculate a complex function $\\psi(q)=\\sum_j^N e^{-iqR_j}$ (called scattering wavefunction) and calculate the strucuture factor by $\\frac{1}{N} \\psi(q)\\psi^*(q)$. (2) By using the Fast Fourier Transformation (FFT) algorithm, on a real space mesh grid. \n",
    "\n",
    "I personally favor the FFT approach (since it's quite convinient and numerically neat). Also, because I need to calculate the structure factor of the deuterium local density $n(r)$, it's more reliable to use the FFT library to Fourier transform the density (which is numerical data).  "
   ]
  },
  {
   "cell_type": "code",
   "execution_count": 1,
   "metadata": {},
   "outputs": [],
   "source": [
    "import ase\n",
    "import numpy as np\n",
    "import matplotlib.pyplot as plt\n",
    "from scipy.integrate import simps\n",
    "from scipy.fft import fftn, ifftn\n",
    "import matplotlib.cm as cm\n",
    "from numpy import linalg as LA\n",
    "from tqdm import tqdm_notebook\n",
    "from tqdm.notebook import trange,tqdm\n",
    "from ase.io import read, write\n",
    "from ase.neighborlist import build_neighbor_list, natural_cutoffs\n",
    "from ase.build import make_supercell\n",
    "import multiprocessing as mp\n",
    "from multiprocessing import Pool\n",
    "import os"
   ]
  },
  {
   "cell_type": "markdown",
   "metadata": {},
   "source": [
    "## FFT routine"
   ]
  },
  {
   "cell_type": "markdown",
   "metadata": {},
   "source": [
    "### BCC crystal (unit-cell)"
   ]
  },
  {
   "cell_type": "markdown",
   "metadata": {},
   "source": [
    "We consider a BCC crystal of iron (Fe) of the lattice constant 2.87 Angstrom."
   ]
  },
  {
   "cell_type": "raw",
   "metadata": {},
   "source": [
    "alat=2.87\n",
    "hkl=4\n",
    "N=51\n",
    "pos_bcc=np.zeros((N,N,N))\n",
    "\n",
    "# atoms at (0,0,0) and (a/2,a/2,a/2)\n",
    "pos_bcc[0,0,0]=1.0\n",
    "pos_bcc[N-1,0,0]=1.0\n",
    "pos_bcc[0,N-1,0]=1.0\n",
    "pos_bcc[0,0,N-1]=1.0\n",
    "\n",
    "pos_bcc[N-1,N-1,0]=1.0\n",
    "pos_bcc[N-1,0,N-1]=1.0\n",
    "pos_bcc[0,N-1,N-1]=1.0\n",
    "pos_bcc[N-1,N-1,N-1]=1.0\n",
    "\n",
    "pos_bcc[int(N/2),int(N/2),int(N/2)]=1.0\n",
    "\n",
    "#Fourier transform\n",
    "Sq_bcc=fftn(pos_bcc)\n",
    "Sq_bcc=np.absolute(Sq_bcc)"
   ]
  },
  {
   "cell_type": "markdown",
   "metadata": {},
   "source": [
    "### FCC"
   ]
  },
  {
   "cell_type": "code",
   "execution_count": null,
   "metadata": {},
   "outputs": [],
   "source": [
    "alat=2.87\n",
    "hkl=4\n",
    "N=51\n",
    "pos_bcc=np.zeros((N,N,N))\n",
    "\n",
    "# atoms at (0,0,0) and (a/2,a/2,a/2)\n",
    "pos_bcc[0,0,0]=1.0\n",
    "pos_bcc[N-1,0,0]=1.0\n",
    "pos_bcc[0,N-1,0]=1.0\n",
    "pos_bcc[N-1,N-1,0]=1.0\n",
    "pos_bcc[int(N/2),int(N/2),0]=1.0\n",
    "\n",
    "pos_bcc[int(N/2),0,int(N/2)]=1.0\n",
    "pos_bcc[0,int(N/2),int(N/2)]=1.0\n",
    "pos_bcc[int(N/2),N-1,int(N/2)]=1.0\n",
    "pos_bcc[N-1,int(N/2),int(N/2)]=1.0\n",
    "\n",
    "pos_bcc[0,0,N-1]=1.0\n",
    "pos_bcc[N-1,0,N-1]=1.0\n",
    "pos_bcc[0,N-1,N-1]=1.0\n",
    "pos_bcc[N-1,N-1,N-1]=1.0\n",
    "pos_bcc[int(N/2),int(N/2),N-1]=1.0\n",
    "\n",
    "#Fourier transform\n",
    "Sq_bcc=fftn(pos_bcc)\n",
    "Sq_bcc=np.absolute(Sq_bcc)"
   ]
  },
  {
   "cell_type": "code",
   "execution_count": null,
   "metadata": {},
   "outputs": [],
   "source": [
    "Sq_bcc[1,2,1]"
   ]
  },
  {
   "cell_type": "markdown",
   "metadata": {},
   "source": [
    "Expand the fourier function to larger $k$-space for the analysis. In this example, we make $(6 \\times 6 \\times 6)$ supercell ($hkl=6$). Keep in mind that the Fourier transformed function is still periodic in $k$-space. "
   ]
  },
  {
   "cell_type": "code",
   "execution_count": null,
   "metadata": {},
   "outputs": [],
   "source": [
    "Sq_bcc_hkl=np.zeros((hkl*Sq_bcc.shape[0],hkl*Sq_bcc.shape[1],hkl*Sq_bcc.shape[2]))\n",
    "\n",
    "for i in range(hkl):\n",
    "    for j in range(hkl):\n",
    "        for k in range(hkl):\n",
    "            Sq_bcc_hkl[i*Sq_bcc.shape[0]:(i+1)*Sq_bcc.shape[0],\n",
    "                       j*Sq_bcc.shape[1]:(j+1)*Sq_bcc.shape[1],\n",
    "                       k*Sq_bcc.shape[2]:(k+1)*Sq_bcc.shape[2]] = Sq_bcc"
   ]
  },
  {
   "cell_type": "markdown",
   "metadata": {},
   "source": [
    "We see that the Fourier transformed wavefunction in $k_x$ direction has a sinusoidal shape."
   ]
  },
  {
   "cell_type": "code",
   "execution_count": null,
   "metadata": {
    "scrolled": false
   },
   "outputs": [],
   "source": [
    "plt.plot(range(N),Sq_bcc[25,25,25])"
   ]
  },
  {
   "cell_type": "markdown",
   "metadata": {},
   "source": [
    "We then project the 3 dimensional $S(q)$ function to a one-dimensional $S(|q|)$ which is a function of the modulus of $|q|$. Please keep in mind that the projection is radial (need to divide a factor $\\frac{4}{3}\\pi(r^3_{i+1}-r^3_i)$)."
   ]
  },
  {
   "cell_type": "code",
   "execution_count": null,
   "metadata": {},
   "outputs": [],
   "source": [
    "Iq_bcc=[]\n",
    "for i in trange(N*hkl-1):\n",
    "    for j in range(N*hkl-1):\n",
    "        for k in range(N*hkl-1):\n",
    "            r0=(2*np.pi/alat)*np.sqrt(\n",
    "              ( ((i)/N)**2 + ((j)/N)**2 + ((k)/N)**2 )\n",
    "            )\n",
    "            r1=(2*np.pi/alat)*np.sqrt(\n",
    "              ( ((i+1)/N)**2 + ((j)/N)**2 + ((k)/N)**2 )\n",
    "            )\n",
    "            Iq_bcc.append([\n",
    "                           r0, \n",
    "                           Sq_bcc_hkl[i,j,k]/(r1**3-r0**3)\n",
    "                          ])\n",
    "Iq_bcc=np.asarray(Iq_bcc)"
   ]
  },
  {
   "cell_type": "code",
   "execution_count": null,
   "metadata": {},
   "outputs": [],
   "source": [
    "q=(2*np.pi/alat)*np.arange(0.0,(2*np.pi/alat)*hkl*np.sqrt(3),0.01)\n",
    "\n",
    "Iq=np.zeros(q.shape[0])\n",
    "for i in trange(Iq_bcc.shape[0]):\n",
    "    Iq[np.abs(q-Iq_bcc[i,0]).argmin()]+=Iq_bcc[i,1]"
   ]
  },
  {
   "cell_type": "raw",
   "metadata": {
    "scrolled": true
   },
   "source": [
    "plt.xlim([0,8])\n",
    "\n",
    "peaks=[\n",
    "       [3.0960856711904996,3.0960856711904996],\n",
    "       [4.378526346466611,4.378526346466611],\n",
    "       [6.192171342380999,6.192171342380999],\n",
    "       [7.583830094359099,7.583830094359099]\n",
    "      ]\n",
    "peak_2=[0,100000]\n",
    "\n",
    "plt.plot(peaks[0],peak_2,'--')\n",
    "plt.plot(peaks[1],peak_2,'--')\n",
    "plt.plot(peaks[2],peak_2,'--')\n",
    "plt.plot(peaks[3],peak_2,'--')\n",
    "\n",
    "plt.plot(q,Iq,'-')"
   ]
  },
  {
   "cell_type": "markdown",
   "metadata": {},
   "source": [
    "### Plot FFC case"
   ]
  },
  {
   "cell_type": "code",
   "execution_count": null,
   "metadata": {},
   "outputs": [],
   "source": [
    "plt.xlim([0,16])\n",
    "\n",
    "peak1=(2*np.pi/alat)*np.sqrt(2**2+2**2+1**2)\n",
    "\n",
    "peaks=[\n",
    "       [peak1,peak1],\n",
    "       [4.378526346466611,4.378526346466611],\n",
    "       [6.192171342380999,6.192171342380999],\n",
    "       [7.583830094359099,7.583830094359099]\n",
    "      ]\n",
    "peak_2=[0,200000]\n",
    "\n",
    "plt.plot(peaks[0],peak_2,'--')\n",
    "#plt.plot(peaks[1],peak_2,'--')\n",
    "#plt.plot(peaks[2],peak_2,'--')\n",
    "#plt.plot(peaks[3],peak_2,'--')\n",
    "\n",
    "plt.plot(q,Iq,'-')"
   ]
  },
  {
   "cell_type": "markdown",
   "metadata": {},
   "source": [
    "### BCC supercell"
   ]
  },
  {
   "cell_type": "code",
   "execution_count": null,
   "metadata": {},
   "outputs": [],
   "source": [
    "alat=2.87*2\n",
    "hkl=6\n",
    "N=40\n",
    "pos_bcc=np.zeros((N,N,N))\n",
    "\n",
    "# atoms at (0,0,0) and (a/2,a/2,a/2)\n",
    "pos_bcc[0,0,0]=1.0\n",
    "pos_bcc[int(N/2),0,0]=1.0\n",
    "pos_bcc[0,int(N/2),0]=1.0\n",
    "pos_bcc[int(N/2),int(N/2),0]=1.0\n",
    "pos_bcc[N-1,0,0]=1.0\n",
    "pos_bcc[0,N-1,0]=1.0\n",
    "pos_bcc[int(N/2),N-1,0]=1.0\n",
    "pos_bcc[N-1,int(N/2),0]=1.0\n",
    "pos_bcc[N-1,N-1,0]=1.0\n",
    "\n",
    "pos_bcc[int(N/4),int(N/4),int(N/4)]=1.0\n",
    "pos_bcc[int(N*3/4),int(N/4),int(N/4)]=1.0\n",
    "pos_bcc[int(N/4),int(N*3/4),int(N/4)]=1.0\n",
    "pos_bcc[int(N*3/4),int(N*3/4),int(N/4)]=1.0\n",
    "\n",
    "pos_bcc[0,0,int(N/2)]=1.0\n",
    "pos_bcc[int(N/2),0,int(N/2)]=1.0\n",
    "pos_bcc[0,int(N/2),int(N/2)]=1.0\n",
    "pos_bcc[int(N/2),int(N/2),int(N/2)]=1.0\n",
    "pos_bcc[N-1,0,int(N/2)]=1.0\n",
    "pos_bcc[0,N-1,int(N/2)]=1.0\n",
    "pos_bcc[int(N/2),N-1,int(N/2)]=1.0\n",
    "pos_bcc[N-1,int(N/2),int(N/2)]=1.0\n",
    "pos_bcc[N-1,N-1,int(N/2)]=1.0\n",
    "\n",
    "pos_bcc[int(N/4),int(N/4),int(N*3/4)]=1.0\n",
    "pos_bcc[int(N*3/4),int(N/4),int(N*3/4)]=1.0\n",
    "pos_bcc[int(N/4),int(N*3/4),int(N*3/4)]=1.0\n",
    "pos_bcc[int(N*3/4),int(N*3/4),int(N*3/4)]=1.0\n",
    "\n",
    "pos_bcc[0,0,N-1]=1.0\n",
    "pos_bcc[int(N/2),0,N-1]=1.0\n",
    "pos_bcc[0,int(N/2),N-1]=1.0\n",
    "pos_bcc[int(N/2),int(N/2),N-1]=1.0\n",
    "pos_bcc[N-1,0,N-1]=1.0\n",
    "pos_bcc[0,N-1,N-1]=1.0\n",
    "pos_bcc[int(N/2),N-1,N-1]=1.0\n",
    "pos_bcc[N-1,int(N/2),N-1]=1.0\n",
    "pos_bcc[N-1,N-1,N-1]=1.0\n",
    "\n",
    "print(\"number of atoms:\",np.count_nonzero(pos_bcc))\n",
    "\n",
    "Sq_bcc=fftn(pos_bcc)\n",
    "Sq_bcc=np.absolute(Sq_bcc)"
   ]
  },
  {
   "cell_type": "code",
   "execution_count": null,
   "metadata": {},
   "outputs": [],
   "source": [
    "Sq_bcc_hkl=np.zeros((hkl*Sq_bcc.shape[0],hkl*Sq_bcc.shape[1],hkl*Sq_bcc.shape[2]))\n",
    "\n",
    "for i in range(hkl):\n",
    "    for j in range(hkl):\n",
    "        for k in range(hkl):\n",
    "            Sq_bcc_hkl[i*Sq_bcc.shape[0]:(i+1)*Sq_bcc.shape[0],\n",
    "                       j*Sq_bcc.shape[1]:(j+1)*Sq_bcc.shape[1],\n",
    "                       k*Sq_bcc.shape[2]:(k+1)*Sq_bcc.shape[2]] = Sq_bcc"
   ]
  },
  {
   "cell_type": "code",
   "execution_count": null,
   "metadata": {},
   "outputs": [],
   "source": [
    "plt.plot(range(N*hkl),Sq_bcc_hkl[:,0,0])"
   ]
  },
  {
   "cell_type": "code",
   "execution_count": null,
   "metadata": {},
   "outputs": [],
   "source": [
    "Iq_bcc=[]\n",
    "for i in trange(N*hkl-1):\n",
    "    for j in range(N*hkl-1):\n",
    "        for k in range(N*hkl-1):\n",
    "            r0=np.sqrt(\n",
    "              (2*np.pi/alat)*( ((i)/N)**2 + ((j)/N)**2 + ((k)/N)**2 )\n",
    "            )\n",
    "            r1=np.sqrt(\n",
    "              (2*np.pi/alat)*( ((i+1)/N)**2 + ((j)/N)**2 + ((k)/N)**2 )\n",
    "            )\n",
    "            Iq_bcc.append([\n",
    "                           r0, \n",
    "                           Sq_bcc_hkl[i,j,k]/(r1**3-r0**3)\n",
    "                          ])\n",
    "Iq_bcc=np.asarray(Iq_bcc)"
   ]
  },
  {
   "cell_type": "code",
   "execution_count": null,
   "metadata": {},
   "outputs": [],
   "source": [
    "q=(2*np.pi/alat)*np.arange(0.0,hkl*np.sqrt(3),0.01)\n",
    "\n",
    "Iq=np.zeros(q.shape[0])\n",
    "for i in range(Iq_bcc.shape[0]):\n",
    "    Iq[np.abs(q-Iq_bcc[i,0]).argmin()]+=Iq_bcc[i,1]"
   ]
  },
  {
   "cell_type": "code",
   "execution_count": null,
   "metadata": {},
   "outputs": [],
   "source": [
    "plt.ylim([0,60000])\n",
    "plt.xlim([0,8])\n",
    "\n",
    "peaks=[\n",
    "       [2*np.pi/alat*np.sqrt(1**2+0**2+0**2),2*np.pi/alat*np.sqrt(1**2+0**2+0**2)],\n",
    "       [2*np.pi/alat*np.sqrt(2**2+0**2+0**2),2*np.pi/alat*np.sqrt(2**2+0**2+0**2)],\n",
    "       [2*np.pi/alat*np.sqrt(2**2+2**2+0**2),2*np.pi/alat*np.sqrt(2**2+2**2+0**2)],\n",
    "       [2*np.pi/alat*np.sqrt(2**2+2**2+2**2),2*np.pi/alat*np.sqrt(2**2+2**2+2**2)]\n",
    "      ]\n",
    "peak_2=[0,100000]\n",
    "\n",
    "plt.plot(peaks[0],peak_2,'--')\n",
    "plt.plot(peaks[1],peak_2,'--')\n",
    "plt.plot(peaks[2],peak_2,'--')\n",
    "plt.plot(peaks[3],peak_2,'--')\n",
    "\n",
    "plt.plot(q,Iq/20)"
   ]
  },
  {
   "cell_type": "markdown",
   "metadata": {},
   "source": [
    "Here, we note that the $S(q)$ has been changed because of the supercell environment. Note that the momentum $q$ has been a half compared to the unit-cell case, $\\frac{2\\pi}{a} \\to \\frac{2\\pi}{2a}$"
   ]
  },
  {
   "cell_type": "markdown",
   "metadata": {},
   "source": [
    "### BCC 2D"
   ]
  },
  {
   "cell_type": "code",
   "execution_count": null,
   "metadata": {},
   "outputs": [],
   "source": [
    "q=np.arange(0.0,1.0,0.01)\n",
    "a=np.pi\n",
    "N=101\n",
    "pos_bcc=np.zeros((N,N))\n",
    "\n",
    "# atoms at (0,0,0) and (a/2,a/2,a/2)\n",
    "pos_bcc[0,0]=1.0\n",
    "pos_bcc[int(N/4),N-5]=1.0\n",
    "\n",
    "Sq_bcc=fftn(pos_bcc)\n",
    "abs_Sq_bcc=np.absolute(Sq_bcc)"
   ]
  },
  {
   "cell_type": "code",
   "execution_count": null,
   "metadata": {},
   "outputs": [],
   "source": [
    "plt.imshow(abs_Sq_bcc, cmap=cm.gray)\n",
    "plt.show()"
   ]
  },
  {
   "cell_type": "markdown",
   "metadata": {},
   "source": [
    "## Structure factor (1)"
   ]
  },
  {
   "cell_type": "markdown",
   "metadata": {},
   "source": [
    "In this section of code, I calculate the structure factor $S(q)$ by calculating \n",
    "\n",
    "$S(q)=\\frac{1}{N} \\sum_j^N \\sum_k^N e^{-iq(R_j-R_k)}$."
   ]
  },
  {
   "cell_type": "code",
   "execution_count": null,
   "metadata": {},
   "outputs": [],
   "source": [
    "atoms=read('./POSCAR')\n",
    "natoms=atoms.positions.shape[0]\n",
    "rcut=[1.0]*natoms\n",
    "alat=2.87"
   ]
  },
  {
   "cell_type": "code",
   "execution_count": null,
   "metadata": {},
   "outputs": [],
   "source": [
    "list_atoms_positions=[]\n",
    "list_loc_positions=[]\n",
    "for i in range(natoms):\n",
    "    indices, offsets = build_neighbor_list(atoms, cutoffs=rcut, bothways=False, self_interaction=True).get_neighbors(i)\n",
    "    #positions of locals\n",
    "    list_loc_positions+=[(atoms.positions[ii] + np.dot(offset, atoms.get_cell())).tolist() \n",
    "                        for ii, offset in zip(indices, offsets)]\n",
    "    #positions of atoms\n",
    "    list_atoms_positions+=[(atoms.positions[i]).tolist()\n",
    "                          for ii, offset in zip(indices, offsets)]\n",
    "\n",
    "#Ri-Rj\n",
    "list_loc_positions=(np.array(list_loc_positions)-np.array(list_atoms_positions)).tolist()"
   ]
  },
  {
   "cell_type": "code",
   "execution_count": null,
   "metadata": {},
   "outputs": [],
   "source": [
    "list_loc_positions=list_loc_positions[:2]"
   ]
  },
  {
   "cell_type": "raw",
   "metadata": {},
   "source": [
    "q=np.array([2.0,0.0,0.0])\n",
    "q*=2*np.pi/2.87\n",
    "Sq=0.0\n",
    "norm=len(list_loc_positions)\n",
    "\n",
    "for loc in list_loc_positions:\n",
    "    rq=np.dot(q,np.array(loc))\n",
    "    Sq+=np.exp(-1j * rq)/norm\n",
    "print(Sq)"
   ]
  },
  {
   "cell_type": "code",
   "execution_count": null,
   "metadata": {},
   "outputs": [],
   "source": [
    "ngrid=81\n",
    "hkl=10\n",
    "q0=np.linspace(0, hkl, ngrid)\n",
    "qx,qy,qz=np.meshgrid(q0,q0,q0,indexing='ij')"
   ]
  },
  {
   "cell_type": "code",
   "execution_count": null,
   "metadata": {},
   "outputs": [],
   "source": [
    "Sq=[]\n",
    "norm=len(list_loc_positions)\n",
    "\n",
    "j=k=0\n",
    "for i in tnrange(ngrid-1):\n",
    "    for j in range(ngrid-1):\n",
    "        for k in range(ngrid-1):\n",
    "            Sq_q=0\n",
    "            for loc in list_loc_positions:\n",
    "                q=2*np.pi/alat*np.array([qx[i,j,k], qy[i,j,k], qz[i,j,k]])\n",
    "                q1=2*np.pi/alat*np.array([qx[i+1,j,k], qy[i,j,k], qz[i,j,k]])\n",
    "                delq=(4/3)*np.pi*np.abs(LA.norm(q1)**3-LA.norm(q)**3)\n",
    "\n",
    "                rq=np.dot(q,np.array(loc))\n",
    "                Sq_q+=np.exp(-1j * rq).real/norm/delq\n",
    "            Sq+=[[LA.norm(q),Sq_q]]\n",
    "Sq=np.array(Sq)"
   ]
  },
  {
   "cell_type": "code",
   "execution_count": null,
   "metadata": {
    "scrolled": true
   },
   "outputs": [],
   "source": [
    "plt.plot(Sq[:,0],Sq[:,1],'p')"
   ]
  },
  {
   "cell_type": "code",
   "execution_count": null,
   "metadata": {},
   "outputs": [],
   "source": [
    "q=(2*np.pi/alat)*np.arange(0.0,hkl*np.sqrt(3),0.01)\n",
    "Sqq=np.zeros(q.shape[0])\n",
    "for i in range(Sq.shape[0]-1):\n",
    "    j=np.abs(q-Sq[i,0]).argmin()\n",
    "    Sqq[j]+=Sq[i,1]"
   ]
  },
  {
   "cell_type": "code",
   "execution_count": null,
   "metadata": {
    "scrolled": true
   },
   "outputs": [],
   "source": [
    "peaks=[\n",
    "       [3.0960856711904996,3.0960856711904996],\n",
    "       [4.378526346466611,4.378526346466611],\n",
    "       [6.192171342380999,6.192171342380999],\n",
    "       [6.923058024945019,6.923058024945019]\n",
    "      ]\n",
    "peak_2=[0,14]\n",
    "\n",
    "plt.plot(q[:-2],Sqq[:-2],'-')\n",
    "plt.plot(peaks[0],peak1_2,'--')\n",
    "plt.plot(peaks[1],peak1_2,'--')\n",
    "plt.plot(peaks[2],peak1_2,'--')\n",
    "plt.plot(peaks[3],peak1_2,'--')"
   ]
  },
  {
   "cell_type": "code",
   "execution_count": null,
   "metadata": {},
   "outputs": [],
   "source": [
    "(2*np.pi/alat)*np.sqrt(10)"
   ]
  },
  {
   "cell_type": "markdown",
   "metadata": {},
   "source": [
    "## Structure factor (2)"
   ]
  },
  {
   "cell_type": "markdown",
   "metadata": {},
   "source": [
    "Here, instead of calculating the intensity, I calculate a complex function $\\psi(q)=\\sum_j^N e^{-iqR_j}$ and calculate the strucuture factor by $\\frac{1}{N} \\psi(q)\\psi^*(q)$."
   ]
  },
  {
   "cell_type": "code",
   "execution_count": 213,
   "metadata": {},
   "outputs": [
    {
     "data": {
      "text/plain": [
       "1.7234510094818152"
      ]
     },
     "execution_count": 213,
     "metadata": {},
     "output_type": "execute_result"
    }
   ],
   "source": [
    "alat=3.6456999779\n",
    "2*np.pi/alat"
   ]
  },
  {
   "cell_type": "code",
   "execution_count": 214,
   "metadata": {},
   "outputs": [],
   "source": [
    "atoms=read('./Fe-FCC/SPOSCAR')\n",
    "list_atoms_positions=atoms.positions"
   ]
  },
  {
   "cell_type": "raw",
   "metadata": {},
   "source": [
    "list_atoms_positions"
   ]
  },
  {
   "cell_type": "raw",
   "metadata": {},
   "source": [
    "q111=np.array([2*np.pi/alat,2*np.pi/alat,2*np.pi/alat])\n",
    "q200=np.array([2*np.pi/alat*2,2*np.pi/alat*1,2*np.pi/alat*0])\n",
    "psiq_111=psiq_200=0\n",
    "for loc in list_atoms_positions:\n",
    "    rq=np.dot(q111,np.array(loc))\n",
    "    psiq_111+=np.exp(-1j * rq)\n",
    "\n",
    "    rq=np.dot(q200,np.array(loc))\n",
    "    psiq_200+=np.exp(-1j * rq)\n",
    "    \n",
    "print(psiq_111)\n",
    "print(psiq_200)"
   ]
  },
  {
   "cell_type": "code",
   "execution_count": 224,
   "metadata": {},
   "outputs": [],
   "source": [
    "ngrid=21\n",
    "hkl=10\n",
    "q0=np.linspace(0, hkl, ngrid)\n",
    "qx,qy,qz=np.meshgrid(q0,q0,q0,indexing='ij')"
   ]
  },
  {
   "cell_type": "code",
   "execution_count": 225,
   "metadata": {},
   "outputs": [
    {
     "data": {
      "text/plain": [
       "array([ 0. ,  0.5,  1. ,  1.5,  2. ,  2.5,  3. ,  3.5,  4. ,  4.5,  5. ,\n",
       "        5.5,  6. ,  6.5,  7. ,  7.5,  8. ,  8.5,  9. ,  9.5, 10. ])"
      ]
     },
     "execution_count": 225,
     "metadata": {},
     "output_type": "execute_result"
    }
   ],
   "source": [
    "q0"
   ]
  },
  {
   "cell_type": "markdown",
   "metadata": {},
   "source": [
    "Calcuate $\\psi(q)=\\sum_j^N e^{-i q R_j}$"
   ]
  },
  {
   "cell_type": "code",
   "execution_count": 226,
   "metadata": {},
   "outputs": [],
   "source": [
    "def sample_psiq(ngrid_list):\n",
    "    alat=3.6456999779\n",
    "    atoms=read('./Fe-FCC/SPOSCAR')\n",
    "    list_atoms_positions=atoms.positions\n",
    "    ngrid=21\n",
    "    hkl=10\n",
    "    q0=np.linspace(0, hkl, ngrid)\n",
    "    qx,qy,qz=np.meshgrid(q0,q0,q0,indexing='ij')\n",
    "    \n",
    "    print(\"alat: \",alat)\n",
    "    \n",
    "    psiq=[]\n",
    "    for i in tqdm(ngrid_list):\n",
    "        for j in range(ngrid-1):\n",
    "            for k in range(ngrid-1):\n",
    "                psi_q=0\n",
    "                for loc in list_atoms_positions:\n",
    "                    q=2*np.pi/alat*np.array([qx[i,j,k], qy[i,j,k], qz[i,j,k]])\n",
    "                    q1=2*np.pi/alat*np.array([qx[i+1,j,k], qy[i,j,k], qz[i,j,k]])\n",
    "                    delq=(4/3)*np.pi*np.abs(LA.norm(q1)**3-LA.norm(q)**3)\n",
    "\n",
    "                    rq=np.dot(q,np.array(loc))\n",
    "                    psi_q+=np.exp(-1j * rq)/delq\n",
    "                psiq+=[[LA.norm(q),psi_q]]\n",
    "    return psiq"
   ]
  },
  {
   "cell_type": "code",
   "execution_count": 227,
   "metadata": {
    "scrolled": true
   },
   "outputs": [
    {
     "name": "stdout",
     "output_type": "stream",
     "text": [
      "8\n",
      "alat:  3.6456999779\n",
      "alat:  3.6456999779\n",
      "alat:  3.6456999779\n",
      "alat:  3.6456999779\n",
      "alat:  3.6456999779\n",
      "alat:  3.6456999779\n",
      "alat:  3.6456999779\n",
      "alat:  3.6456999779\n"
     ]
    },
    {
     "data": {
      "application/vnd.jupyter.widget-view+json": {
       "model_id": "a2fd4281d03b4ed785ec6662e412034d",
       "version_major": 2,
       "version_minor": 0
      },
      "text/plain": [
       "HBox(children=(FloatProgress(value=0.0, max=2.0), HTML(value='')))"
      ]
     },
     "metadata": {},
     "output_type": "display_data"
    },
    {
     "data": {
      "application/vnd.jupyter.widget-view+json": {
       "model_id": "4e080b600bc94a18af94fcc20d19dcda",
       "version_major": 2,
       "version_minor": 0
      },
      "text/plain": [
       "HBox(children=(FloatProgress(value=0.0, max=2.0), HTML(value='')))"
      ]
     },
     "metadata": {},
     "output_type": "display_data"
    },
    {
     "data": {
      "application/vnd.jupyter.widget-view+json": {
       "model_id": "09a226ca8da44dd3baca54050c1337b0",
       "version_major": 2,
       "version_minor": 0
      },
      "text/plain": [
       "HBox(children=(FloatProgress(value=0.0, max=3.0), HTML(value='')))"
      ]
     },
     "metadata": {},
     "output_type": "display_data"
    },
    {
     "data": {
      "application/vnd.jupyter.widget-view+json": {
       "model_id": "c9a22116b22a4b7f83f0d4d9369bece9",
       "version_major": 2,
       "version_minor": 0
      },
      "text/plain": [
       "HBox(children=(FloatProgress(value=0.0, max=3.0), HTML(value='')))"
      ]
     },
     "metadata": {},
     "output_type": "display_data"
    },
    {
     "data": {
      "application/vnd.jupyter.widget-view+json": {
       "model_id": "6fb703bcd88344269377a751b05749dd",
       "version_major": 2,
       "version_minor": 0
      },
      "text/plain": [
       "HBox(children=(FloatProgress(value=0.0, max=2.0), HTML(value='')))"
      ]
     },
     "metadata": {},
     "output_type": "display_data"
    },
    {
     "data": {
      "application/vnd.jupyter.widget-view+json": {
       "model_id": "14e8fbf7151546d2b7305dd8eb56ac2a",
       "version_major": 2,
       "version_minor": 0
      },
      "text/plain": [
       "HBox(children=(FloatProgress(value=0.0, max=2.0), HTML(value='')))"
      ]
     },
     "metadata": {},
     "output_type": "display_data"
    },
    {
     "data": {
      "application/vnd.jupyter.widget-view+json": {
       "model_id": "6e33f8ce73e84027b832cd4eb95a08d0",
       "version_major": 2,
       "version_minor": 0
      },
      "text/plain": [
       "HBox(children=(FloatProgress(value=0.0, max=3.0), HTML(value='')))"
      ]
     },
     "metadata": {},
     "output_type": "display_data"
    },
    {
     "data": {
      "application/vnd.jupyter.widget-view+json": {
       "model_id": "a7a1cddc8fe849bb9cf3d9641fc5c545",
       "version_major": 2,
       "version_minor": 0
      },
      "text/plain": [
       "HBox(children=(FloatProgress(value=0.0, max=3.0), HTML(value='')))"
      ]
     },
     "metadata": {},
     "output_type": "display_data"
    },
    {
     "name": "stdout",
     "output_type": "stream",
     "text": [
      "\n",
      "\n",
      "\n",
      "\n",
      "\n",
      "\n",
      "\n",
      "\n"
     ]
    }
   ],
   "source": [
    "num_cores=mp.cpu_count()\n",
    "print(num_cores)\n",
    "pool=Pool(num_cores)\n",
    "ngrid_list_tot=range(ngrid-1)\n",
    "chunks=[ngrid_list_tot[i::num_cores] for i in range(num_cores)]\n",
    "\n",
    "psiql=[]\n",
    "for psiq_join in pool.map(sample_psiq, chunks):\n",
    "    psiql+=[psiq_join]\n",
    "pool.close()\n",
    "\n",
    "#q=np.linspace(0, 2*np.pi/alat*hkl, ngrid)\n",
    "#psiq=np.zeros(q.shape[0])\n",
    "psiq=[]\n",
    "for p in psiql:\n",
    "    for pp in p:\n",
    "        psiq.append(pp)\n",
    "psiq=np.array(psiq)"
   ]
  },
  {
   "cell_type": "code",
   "execution_count": 228,
   "metadata": {},
   "outputs": [],
   "source": [
    "psiq=np.absolute(psiq)"
   ]
  },
  {
   "cell_type": "code",
   "execution_count": 229,
   "metadata": {},
   "outputs": [
    {
     "data": {
      "text/plain": [
       "[<matplotlib.lines.Line2D at 0x1540845990>]"
      ]
     },
     "execution_count": 229,
     "metadata": {},
     "output_type": "execute_result"
    },
    {
     "data": {
      "image/png": "[encoded data removed]",
      "text/plain": [
       "<Figure size 432x288 with 1 Axes>"
      ]
     },
     "metadata": {
      "needs_background": "light"
     },
     "output_type": "display_data"
    }
   ],
   "source": [
    "#plt.ylim(0,1000)\n",
    "plt.plot(peaks[1],peak_2,'--')\n",
    "plt.plot(psiq[:,0],psiq[:,1],'p')"
   ]
  },
  {
   "cell_type": "code",
   "execution_count": 230,
   "metadata": {},
   "outputs": [
    {
     "data": {
      "application/vnd.jupyter.widget-view+json": {
       "model_id": "1321856106d8478ea07e1ca7206d2663",
       "version_major": 2,
       "version_minor": 0
      },
      "text/plain": [
       "HBox(children=(FloatProgress(value=0.0, max=7999.0), HTML(value='')))"
      ]
     },
     "metadata": {},
     "output_type": "display_data"
    },
    {
     "name": "stdout",
     "output_type": "stream",
     "text": [
      "\n"
     ]
    }
   ],
   "source": [
    "q=(2*np.pi/alat)*np.arange(0.0,hkl*np.sqrt(3),0.01)\n",
    "psiqq=np.zeros(q.shape[0])\n",
    "for i in trange(psiq.shape[0]-1):\n",
    "    j=np.abs(q-psiq[i,0]).argmin()\n",
    "    psiqq[j]+=psiq[i,1]"
   ]
  },
  {
   "cell_type": "code",
   "execution_count": 231,
   "metadata": {
    "scrolled": true
   },
   "outputs": [
    {
     "data": {
      "text/plain": [
       "[<matplotlib.lines.Line2D at 0x1540aca210>]"
      ]
     },
     "execution_count": 231,
     "metadata": {},
     "output_type": "execute_result"
    },
    {
     "data": {
      "image/png": "[encoded data removed]",
      "text/plain": [
       "<Figure size 432x288 with 1 Axes>"
      ]
     },
     "metadata": {
      "needs_background": "light"
     },
     "output_type": "display_data"
    }
   ],
   "source": [
    "peak1=(2*np.pi/3.6456999779)*np.sqrt(1**2+1**2+1**2) #(2,0,0)\n",
    "peak2=(2*np.pi/3.6456999779)*np.sqrt(2**2+0**2+0**2) #(2,2,0)\n",
    "peak3=(2*np.pi/3.6456999779)*np.sqrt(2**2+2**2+0**2) #(4,0,0)\n",
    "peak4=(2*np.pi/3.6456999779)*np.sqrt(3**2+1**2+1**2) #(4,2,0)\n",
    "\n",
    "peaks=[\n",
    "       [peak1,peak1],\n",
    "       [peak2,peak2],\n",
    "       [peak3,peak3],\n",
    "       [peak4,peak4]\n",
    "      ]\n",
    "peak_2=[0,100000]\n",
    "\n",
    "plt.xlim(0,20)\n",
    "plt.ylim(0,100)\n",
    "\n",
    "plt.plot(peaks[0],peak_2,'--')\n",
    "plt.plot(peaks[1],peak_2,'--')\n",
    "plt.plot(peaks[2],peak_2,'--')\n",
    "plt.plot(peaks[3],peak_2,'--')\n",
    "\n",
    "plt.plot(q[:-2],psiqq[:-2],'-')"
   ]
  },
  {
   "cell_type": "code",
   "execution_count": null,
   "metadata": {},
   "outputs": [],
   "source": []
  }
 ],
 "metadata": {
  "kernelspec": {
   "display_name": "Python 3",
   "language": "python",
   "name": "python3"
  },
  "language_info": {
   "codemirror_mode": {
    "name": "ipython",
    "version": 3
   },
   "file_extension": ".py",
   "mimetype": "text/x-python",
   "name": "python",
   "nbconvert_exporter": "python",
   "pygments_lexer": "ipython3",
   "version": "3.7.6"
  }
 },
 "nbformat": 4,
 "nbformat_minor": 4
}
