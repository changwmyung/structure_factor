{
 "cells": [
  {
   "cell_type": "code",
   "execution_count": 240,
   "metadata": {},
   "outputs": [],
   "source": [
    "import ase\n",
    "import numpy as np\n",
    "import matplotlib.pyplot as plt\n",
    "from scipy.integrate import simps\n",
    "from scipy.fft import fftn, ifftn, fftfreq\n",
    "import matplotlib.cm as cm\n",
    "from numpy import linalg as LA\n",
    "from tqdm import tqdm_notebook\n",
    "from tqdm.notebook import trange,tqdm\n",
    "from ase.io import read, write\n",
    "from ase.neighborlist import build_neighbor_list, natural_cutoffs\n",
    "from ase.build import make_supercell\n",
    "import multiprocessing as mp\n",
    "from multiprocessing import Pool\n",
    "import os"
   ]
  },
  {
   "cell_type": "markdown",
   "metadata": {},
   "source": [
    "### Fe BCC"
   ]
  },
  {
   "cell_type": "code",
   "execution_count": 241,
   "metadata": {},
   "outputs": [],
   "source": [
    "a=read('./Fe-BCC/SPOSCAR.xyz')\n",
    "\n",
    "alata=28.7\n",
    "alatc=28.7\n",
    "\n",
    "hkl=1\n",
    "N=256\n",
    "pos_grid=np.zeros((N+1,N+1,N+1))\n",
    "\n",
    "rgrida=np.arange(0.0,alata+alata/N,alata/N)\n",
    "rgridc=np.arange(0.0,alatc+alatc/N,alatc/N)\n",
    "\n",
    "for i in range(a.positions.shape[0]):\n",
    "    idx=np.absolute(rgrida-a.positions[i,0]).argmin()\n",
    "    idy=np.absolute(rgrida-a.positions[i,1]).argmin()\n",
    "    idz=np.absolute(rgridc-a.positions[i,2]).argmin()\n",
    "    pos_grid[idx,idy,idz]+=1"
   ]
  },
  {
   "cell_type": "code",
   "execution_count": 3,
   "metadata": {},
   "outputs": [],
   "source": [
    "np.savetxt(\"Fe-bcc-sup-10.csv\", a.positions, delimiter=\",\")"
   ]
  },
  {
   "cell_type": "code",
   "execution_count": 242,
   "metadata": {},
   "outputs": [],
   "source": [
    "#Fourier transform\n",
    "#pos_grid=np.random.rand(N+1,N+1,N+1)\n",
    "Sq_fft=fftn(pos_grid)\n",
    "Sq_fft=np.absolute(Sq_fft)"
   ]
  },
  {
   "cell_type": "code",
   "execution_count": 243,
   "metadata": {},
   "outputs": [],
   "source": [
    "def sample_Sq(klist):\n",
    "    print(alata,alatc,Sq_fft.shape)\n",
    "    q=(2*np.pi/alatc)*np.arange(0.0,60.0,0.02)\n",
    "    Sqq=np.zeros(q.shape[0])\n",
    "    for i in tqdm(klist):\n",
    "        for j in range(N*hkl-1):\n",
    "            for k in range(N*hkl-1):\n",
    "                r0=2*np.pi/alata*np.sqrt(i**2+j**2+k**2)\n",
    "                r1=2*np.pi/alata*np.sqrt((i+1)**2+j**2+k**2)\n",
    "                Sq=Sq_fft[i,j,k]/(4/3*np.pi*(r1**3-r0**3))\n",
    "                Sqq[np.abs(q-r0).argmin()]+=Sq\n",
    "    return Sqq"
   ]
  },
  {
   "cell_type": "code",
   "execution_count": 244,
   "metadata": {
    "scrolled": true
   },
   "outputs": [
    {
     "name": "stdout",
     "output_type": "stream",
     "text": [
      "8\n",
      "28.7 28.7 (257, 257, 257)\n",
      "28.7 28.7 (257, 257, 257)\n",
      "28.7 28.7 (257, 257, 257)\n",
      "28.7 28.7 (257, 257, 257)\n",
      "28.7 28.7 (257, 257, 257)\n",
      "28.7 28.7 (257, 257, 257)\n",
      "28.7 28.7 (257, 257, 257)\n",
      "28.7 28.7 (257, 257, 257)\n"
     ]
    },
    {
     "data": {
      "application/vnd.jupyter.widget-view+json": {
       "model_id": "a26018d454de4cafaafd9cfb3f3e9426",
       "version_major": 2,
       "version_minor": 0
      },
      "text/plain": [
       "HBox(children=(FloatProgress(value=0.0, max=32.0), HTML(value='')))"
      ]
     },
     "metadata": {},
     "output_type": "display_data"
    },
    {
     "data": {
      "application/vnd.jupyter.widget-view+json": {
       "model_id": "7292c2788af54a9d852f894462911843",
       "version_major": 2,
       "version_minor": 0
      },
      "text/plain": [
       "HBox(children=(FloatProgress(value=0.0, max=32.0), HTML(value='')))"
      ]
     },
     "metadata": {},
     "output_type": "display_data"
    },
    {
     "data": {
      "application/vnd.jupyter.widget-view+json": {
       "model_id": "5fcf10350d4b46829dcf961dbf2846ec",
       "version_major": 2,
       "version_minor": 0
      },
      "text/plain": [
       "HBox(children=(FloatProgress(value=0.0, max=31.0), HTML(value='')))"
      ]
     },
     "metadata": {},
     "output_type": "display_data"
    },
    {
     "data": {
      "application/vnd.jupyter.widget-view+json": {
       "model_id": "052ee20c1b754768b3f74d365a4e5574",
       "version_major": 2,
       "version_minor": 0
      },
      "text/plain": [
       "HBox(children=(FloatProgress(value=0.0, max=32.0), HTML(value='')))"
      ]
     },
     "metadata": {},
     "output_type": "display_data"
    },
    {
     "data": {
      "application/vnd.jupyter.widget-view+json": {
       "model_id": "41c4136ba7e54bbe8fb067b50934e0ec",
       "version_major": 2,
       "version_minor": 0
      },
      "text/plain": [
       "HBox(children=(FloatProgress(value=0.0, max=32.0), HTML(value='')))"
      ]
     },
     "metadata": {},
     "output_type": "display_data"
    },
    {
     "data": {
      "application/vnd.jupyter.widget-view+json": {
       "model_id": "29e1b29e1ba34dd2a3d3e87c99670985",
       "version_major": 2,
       "version_minor": 0
      },
      "text/plain": [
       "HBox(children=(FloatProgress(value=0.0, max=32.0), HTML(value='')))"
      ]
     },
     "metadata": {},
     "output_type": "display_data"
    },
    {
     "data": {
      "application/vnd.jupyter.widget-view+json": {
       "model_id": "72e9e359be9747f297ee13db6cb3a24a",
       "version_major": 2,
       "version_minor": 0
      },
      "text/plain": [
       "HBox(children=(FloatProgress(value=0.0, max=32.0), HTML(value='')))"
      ]
     },
     "metadata": {},
     "output_type": "display_data"
    },
    {
     "data": {
      "application/vnd.jupyter.widget-view+json": {
       "model_id": "24c6d124cf6c478fb040c7743ac0fd4d",
       "version_major": 2,
       "version_minor": 0
      },
      "text/plain": [
       "HBox(children=(FloatProgress(value=0.0, max=32.0), HTML(value='')))"
      ]
     },
     "metadata": {},
     "output_type": "display_data"
    },
    {
     "name": "stdout",
     "output_type": "stream",
     "text": [
      "\n",
      "\n",
      "\n",
      "\n",
      "\n",
      "\n",
      "\n",
      "\n"
     ]
    }
   ],
   "source": [
    "num_cores=mp.cpu_count()\n",
    "print(num_cores)\n",
    "pool=Pool(num_cores)\n",
    "klist_tot=range(N*hkl-1)\n",
    "chunks=[klist_tot[i::num_cores] for i in range(num_cores)]\n",
    "\n",
    "Sqq=[]\n",
    "for Sqq_join in pool.map(sample_Sq, chunks):\n",
    "    Sqq+=[Sqq_join]\n",
    "pool.close()"
   ]
  },
  {
   "cell_type": "code",
   "execution_count": 245,
   "metadata": {},
   "outputs": [],
   "source": [
    "q=(2*np.pi/alatc)*np.arange(0.0,60.0,0.02)\n",
    "Sqqf=np.zeros(q.shape[0])\n",
    "for s in Sqq:\n",
    "    Sqqf+=s"
   ]
  },
  {
   "cell_type": "code",
   "execution_count": 248,
   "metadata": {
    "scrolled": true
   },
   "outputs": [
    {
     "data": {
      "text/plain": [
       "[<matplotlib.lines.Line2D at 0x152b51c290>]"
      ]
     },
     "execution_count": 248,
     "metadata": {},
     "output_type": "execute_result"
    },
    {
     "data": {
      "image/png": "[encoded data removed]",
      "text/plain": [
       "<Figure size 432x288 with 1 Axes>"
      ]
     },
     "metadata": {
      "needs_background": "light"
     },
     "output_type": "display_data"
    }
   ],
   "source": [
    "peak1=(2*np.pi/2.87)*np.sqrt(1**2+0**2+0**2) #(1,1,0)\n",
    "peak2=(2*np.pi/2.87)*np.sqrt(2**2+0**2+0**2) #(2,0,0)\n",
    "peak3=(2*np.pi/2.87)*np.sqrt(2**2+2**2+0**2) #(2,2,0)\n",
    "peak4=(2*np.pi/2.87)*np.sqrt(3**2+1**2+0**2) #(3,1,0)\n",
    "peak5=(2*np.pi/2.87)*np.sqrt(4**2+0**2+0**2) #(4,0,0)\n",
    "\n",
    "peaks=[\n",
    "       [peak1,peak1],\n",
    "       [peak2,peak2],\n",
    "       [peak3,peak3],\n",
    "       [peak4,peak4],\n",
    "       [peak5,peak5]\n",
    "      ]\n",
    "peak_2=[0,100000]\n",
    "\n",
    "plt.ylim(0,4000)\n",
    "plt.xlim(0,12)\n",
    "\n",
    "plt.plot(peaks[0],peak_2,'--')\n",
    "plt.plot(peaks[1],peak_2,'--')\n",
    "plt.plot(peaks[2],peak_2,'--')\n",
    "plt.plot(peaks[3],peak_2,'--')\n",
    "plt.plot(peaks[4],peak_2,'--')\n",
    "\n",
    "plt.plot(q[:],Sqqf[:])"
   ]
  },
  {
   "cell_type": "markdown",
   "metadata": {},
   "source": [
    "### Fe FCC"
   ]
  },
  {
   "cell_type": "code",
   "execution_count": 383,
   "metadata": {},
   "outputs": [],
   "source": [
    "a=read('./Fe-FCC/POSCAR')\n",
    "\n",
    "alata=3.6456999779\n",
    "alatc=3.6456999779\n",
    "\n",
    "hkl=1\n",
    "N=10\n",
    "pos_grid=np.zeros((N+1,N+1,N+1))\n",
    "\n",
    "rgrida=np.arange(0.0,alata+alata/N,alata/N)\n",
    "rgridc=np.arange(0.0,alatc+alatc/N,alatc/N)\n",
    "\n",
    "for i in range(a.positions.shape[0]):\n",
    "    idx=np.absolute(rgrida-a.positions[i,0]).argmin()\n",
    "    idy=np.absolute(rgrida-a.positions[i,1]).argmin()\n",
    "    idz=np.absolute(rgridc-a.positions[i,2]).argmin()\n",
    "    pos_grid[idx,idy,idz]+=1"
   ]
  },
  {
   "cell_type": "code",
   "execution_count": 384,
   "metadata": {},
   "outputs": [
    {
     "data": {
      "text/plain": [
       "array([1., 0., 0., 0., 0., 0., 0., 0., 0., 0., 0.])"
      ]
     },
     "execution_count": 384,
     "metadata": {},
     "output_type": "execute_result"
    }
   ],
   "source": [
    "pos_grid[0,0,:]"
   ]
  },
  {
   "cell_type": "code",
   "execution_count": 385,
   "metadata": {},
   "outputs": [],
   "source": [
    "#Fourier transform\n",
    "#pos_grid=np.random.rand(N+1,N+1,N+1)\n",
    "Sq_fft=fftn(pos_grid)\n",
    "Sq_fft=np.absolute(Sq_fft)"
   ]
  },
  {
   "cell_type": "code",
   "execution_count": 386,
   "metadata": {},
   "outputs": [
    {
     "data": {
      "text/plain": [
       "[<matplotlib.lines.Line2D at 0x156fa46250>]"
      ]
     },
     "execution_count": 386,
     "metadata": {},
     "output_type": "execute_result"
    },
    {
     "data": {
      "image/png": "[encoded data removed]",
      "text/plain": [
       "<Figure size 432x288 with 1 Axes>"
      ]
     },
     "metadata": {
      "needs_background": "light"
     },
     "output_type": "display_data"
    }
   ],
   "source": [
    "plt.plot(range(N+1),Sq_fft[10,10,:])"
   ]
  },
  {
   "cell_type": "code",
   "execution_count": 387,
   "metadata": {},
   "outputs": [],
   "source": [
    "def sample_Sq(klist):\n",
    "    print(alata,alatc,Sq_fft.shape)\n",
    "    q=(2*np.pi/alatc)*np.arange(0.0,10.0,0.01)\n",
    "    Sqq=np.zeros(q.shape[0])\n",
    "    for i in tqdm(klist):\n",
    "        for j in range(N*hkl-1):\n",
    "            for k in range(N*hkl-1):\n",
    "                r0=2*np.pi/alata*np.sqrt(i**2+j**2+k**2)\n",
    "                r1=2*np.pi/alata*np.sqrt((i+1)**2+j**2+k**2)\n",
    "                Sq=Sq_fft[i,j,k]/(4/3*np.pi*(r1**3-r0**3))\n",
    "                Sqq[np.abs(q-r0).argmin()]+=Sq\n",
    "    return Sqq"
   ]
  },
  {
   "cell_type": "code",
   "execution_count": 388,
   "metadata": {},
   "outputs": [
    {
     "name": "stdout",
     "output_type": "stream",
     "text": [
      "8\n",
      "3.6456999779 3.6456999779 (11, 11, 11)\n",
      "3.6456999779 3.6456999779 (11, 11, 11)\n",
      "3.6456999779 3.6456999779 (11, 11, 11)\n",
      "3.6456999779 3.6456999779 (11, 11, 11)\n",
      "3.6456999779 3.6456999779 (11, 11, 11)\n",
      "3.6456999779 3.6456999779 (11, 11, 11)\n",
      "3.6456999779 3.6456999779 (11, 11, 11)\n",
      "3.6456999779 3.6456999779 (11, 11, 11)\n"
     ]
    },
    {
     "data": {
      "application/vnd.jupyter.widget-view+json": {
       "model_id": "7ec86ba7f082406a8e595a578400d543",
       "version_major": 2,
       "version_minor": 0
      },
      "text/plain": [
       "HBox(children=(FloatProgress(value=0.0, max=1.0), HTML(value='')))"
      ]
     },
     "metadata": {},
     "output_type": "display_data"
    },
    {
     "data": {
      "application/vnd.jupyter.widget-view+json": {
       "model_id": "ec2fa2221614432ab991bb53fcc3afd6",
       "version_major": 2,
       "version_minor": 0
      },
      "text/plain": [
       "HBox(children=(FloatProgress(value=0.0, max=1.0), HTML(value='')))"
      ]
     },
     "metadata": {},
     "output_type": "display_data"
    },
    {
     "data": {
      "application/vnd.jupyter.widget-view+json": {
       "model_id": "a5ab83b6606042508456775a559d8286",
       "version_major": 2,
       "version_minor": 0
      },
      "text/plain": [
       "HBox(children=(FloatProgress(value=0.0, max=1.0), HTML(value='')))"
      ]
     },
     "metadata": {},
     "output_type": "display_data"
    },
    {
     "data": {
      "application/vnd.jupyter.widget-view+json": {
       "model_id": "211b61bfa1254728a33d389c1cbf21b9",
       "version_major": 2,
       "version_minor": 0
      },
      "text/plain": [
       "HBox(children=(FloatProgress(value=0.0, max=1.0), HTML(value='')))"
      ]
     },
     "metadata": {},
     "output_type": "display_data"
    },
    {
     "data": {
      "application/vnd.jupyter.widget-view+json": {
       "model_id": "633db1b794e24613b20d4c309da29b3d",
       "version_major": 2,
       "version_minor": 0
      },
      "text/plain": [
       "HBox(children=(FloatProgress(value=0.0, max=2.0), HTML(value='')))"
      ]
     },
     "metadata": {},
     "output_type": "display_data"
    },
    {
     "data": {
      "application/vnd.jupyter.widget-view+json": {
       "model_id": "24cedd87639245439692c0c52c615637",
       "version_major": 2,
       "version_minor": 0
      },
      "text/plain": [
       "HBox(children=(FloatProgress(value=0.0, max=1.0), HTML(value='')))"
      ]
     },
     "metadata": {},
     "output_type": "display_data"
    },
    {
     "data": {
      "application/vnd.jupyter.widget-view+json": {
       "model_id": "33207119445b490d96ac0a47987d2975",
       "version_major": 2,
       "version_minor": 0
      },
      "text/plain": [
       "HBox(children=(FloatProgress(value=0.0, max=1.0), HTML(value='')))"
      ]
     },
     "metadata": {},
     "output_type": "display_data"
    },
    {
     "data": {
      "application/vnd.jupyter.widget-view+json": {
       "model_id": "4af4279f56e940d5baea86990ef50722",
       "version_major": 2,
       "version_minor": 0
      },
      "text/plain": [
       "HBox(children=(FloatProgress(value=0.0, max=1.0), HTML(value='')))"
      ]
     },
     "metadata": {},
     "output_type": "display_data"
    },
    {
     "name": "stdout",
     "output_type": "stream",
     "text": [
      "\n",
      "\n",
      "\n",
      "\n",
      "\n",
      "\n",
      "\n",
      "\n"
     ]
    }
   ],
   "source": [
    "num_cores=mp.cpu_count()\n",
    "print(num_cores)\n",
    "pool=Pool(num_cores)\n",
    "klist_tot=range(N*hkl-1)\n",
    "chunks=[klist_tot[i::num_cores] for i in range(num_cores)]\n",
    "\n",
    "Sqq=[]\n",
    "for Sqq_join in pool.map(sample_Sq, chunks):\n",
    "    Sqq+=[Sqq_join]\n",
    "pool.close()"
   ]
  },
  {
   "cell_type": "code",
   "execution_count": 389,
   "metadata": {},
   "outputs": [],
   "source": [
    "q=(2*np.pi/alatc)*np.arange(0.0,10.0,0.01)\n",
    "Sqqf=np.zeros(q.shape[0])\n",
    "for s in Sqq:\n",
    "    Sqqf+=s"
   ]
  },
  {
   "cell_type": "code",
   "execution_count": 395,
   "metadata": {},
   "outputs": [
    {
     "data": {
      "text/plain": [
       "[<matplotlib.lines.Line2D at 0x1574d4cad0>]"
      ]
     },
     "execution_count": 395,
     "metadata": {},
     "output_type": "execute_result"
    },
    {
     "data": {
      "image/png": "[encoded data removed]",
      "text/plain": [
       "<Figure size 432x288 with 1 Axes>"
      ]
     },
     "metadata": {
      "needs_background": "light"
     },
     "output_type": "display_data"
    }
   ],
   "source": [
    "peak1=(2*np.pi/3.6456999779)*np.sqrt(1**2+1**2+1**2) #(2,0,0)\n",
    "peak2=(2*np.pi/3.6456999779)*np.sqrt(2**2+0**2+0**2) #(2,2,0)\n",
    "peak3=(2*np.pi/3.6456999779)*np.sqrt(2**2+2**2+0**2) #(4,0,0)\n",
    "peak4=(2*np.pi/3.6456999779)*np.sqrt(3**2+1**2+1**2) #(4,2,0)\n",
    "\n",
    "peaks=[\n",
    "       [peak1,peak1],\n",
    "       [peak2,peak2],\n",
    "       [peak3,peak3],\n",
    "       [peak4,peak4],\n",
    "       [peak5,peak5]\n",
    "      ]\n",
    "peak_2=[0,100000]\n",
    "\n",
    "plt.ylim(0,0.2)\n",
    "plt.xlim(,12)\n",
    "\n",
    "plt.plot(peaks[0],peak_2,'--')\n",
    "plt.plot(peaks[1],peak_2,'--')\n",
    "plt.plot(peaks[2],peak_2,'--')\n",
    "plt.plot(peaks[3],peak_2,'--')\n",
    "#plt.plot(peaks[4],peak_2,'--')\n",
    "\n",
    "plt.plot(q[:],Sqqf[:])"
   ]
  },
  {
   "cell_type": "markdown",
   "metadata": {},
   "source": [
    "### FCC w/o hidden atoms"
   ]
  },
  {
   "cell_type": "code",
   "execution_count": 54,
   "metadata": {},
   "outputs": [],
   "source": [
    "a=read('./Fe-FCC/SPOSCAR.POSCAR.vasp')\n",
    "\n",
    "alata=36.457\n",
    "alatc=36.457\n",
    "\n",
    "hkl=1\n",
    "N=256\n",
    "pos_grid=np.zeros((N+1,N+1,N+1))\n",
    "\n",
    "rgrida=np.arange(0.0,alata+alata/N,alata/N)\n",
    "rgridc=np.arange(0.0,alatc+alatc/N,alatc/N)\n",
    "\n",
    "for i in range(a.positions.shape[0]):\n",
    "    idx=np.absolute(rgrida-a.positions[i,0]).argmin()\n",
    "    idy=np.absolute(rgrida-a.positions[i,1]).argmin()\n",
    "    idz=np.absolute(rgridc-a.positions[i,2]).argmin()\n",
    "    pos_grid[idx,idy,idz]+=1"
   ]
  },
  {
   "cell_type": "code",
   "execution_count": 57,
   "metadata": {},
   "outputs": [],
   "source": [
    "#Fourier transform\n",
    "#pos_grid=np.random.rand(N+1,N+1,N+1)\n",
    "Sq_fft=fftn(pos_grid)\n",
    "Sq_fft=np.absolute(Sq_fft)"
   ]
  },
  {
   "cell_type": "code",
   "execution_count": 58,
   "metadata": {},
   "outputs": [],
   "source": [
    "def sample_Sq(klist):\n",
    "    print(alata,alatc,Sq_fft.shape)\n",
    "    q=(2*np.pi/alatc)*np.arange(0.0,80.0,0.05)\n",
    "    Sqq=np.zeros(q.shape[0])\n",
    "    for i in tqdm(klist):\n",
    "        for j in range(N*hkl-1):\n",
    "            for k in range(N*hkl-1):\n",
    "                r0=2*np.pi/alata*np.sqrt(i**2+j**2+k**2)\n",
    "                r1=2*np.pi/alata*np.sqrt((i+1)**2+j**2+k**2)\n",
    "                Sq=Sq_fft[i,j,k]/(4/3*np.pi*(r1**3-r0**3))\n",
    "                Sqq[np.abs(q-r0).argmin()]+=Sq\n",
    "    return Sqq"
   ]
  },
  {
   "cell_type": "code",
   "execution_count": 59,
   "metadata": {},
   "outputs": [
    {
     "name": "stdout",
     "output_type": "stream",
     "text": [
      "8\n",
      "36.457 36.457 (257, 257, 257)\n",
      "36.457 36.457 (257, 257, 257)\n",
      "36.457 36.457 (257, 257, 257)\n",
      "36.457 36.457 (257, 257, 257)\n",
      "36.457 36.457 (257, 257, 257)\n",
      "36.457 36.457 (257, 257, 257)\n",
      "36.457 36.457 (257, 257, 257)\n",
      "36.457 36.457 (257, 257, 257)\n"
     ]
    },
    {
     "data": {
      "application/vnd.jupyter.widget-view+json": {
       "model_id": "30edf43739b14920aaec5538aae1bfdc",
       "version_major": 2,
       "version_minor": 0
      },
      "text/plain": [
       "HBox(children=(FloatProgress(value=0.0, max=32.0), HTML(value='')))"
      ]
     },
     "metadata": {},
     "output_type": "display_data"
    },
    {
     "data": {
      "application/vnd.jupyter.widget-view+json": {
       "model_id": "eef8473cd5074d579b03f6dcd428ce39",
       "version_major": 2,
       "version_minor": 0
      },
      "text/plain": [
       "HBox(children=(FloatProgress(value=0.0, max=32.0), HTML(value='')))"
      ]
     },
     "metadata": {},
     "output_type": "display_data"
    },
    {
     "data": {
      "application/vnd.jupyter.widget-view+json": {
       "model_id": "d1872d6a72c049f4a0a73a04708a7f56",
       "version_major": 2,
       "version_minor": 0
      },
      "text/plain": [
       "HBox(children=(FloatProgress(value=0.0, max=32.0), HTML(value='')))"
      ]
     },
     "metadata": {},
     "output_type": "display_data"
    },
    {
     "data": {
      "application/vnd.jupyter.widget-view+json": {
       "model_id": "0e72c128f2934e50919903e94fe5f5d9",
       "version_major": 2,
       "version_minor": 0
      },
      "text/plain": [
       "HBox(children=(FloatProgress(value=0.0, max=32.0), HTML(value='')))"
      ]
     },
     "metadata": {},
     "output_type": "display_data"
    },
    {
     "data": {
      "application/vnd.jupyter.widget-view+json": {
       "model_id": "cf8873e98bfc44f395a6ccefaa37ce69",
       "version_major": 2,
       "version_minor": 0
      },
      "text/plain": [
       "HBox(children=(FloatProgress(value=0.0, max=32.0), HTML(value='')))"
      ]
     },
     "metadata": {},
     "output_type": "display_data"
    },
    {
     "data": {
      "application/vnd.jupyter.widget-view+json": {
       "model_id": "2aec0f0debe844ccb70bfecbeb195601",
       "version_major": 2,
       "version_minor": 0
      },
      "text/plain": [
       "HBox(children=(FloatProgress(value=0.0, max=32.0), HTML(value='')))"
      ]
     },
     "metadata": {},
     "output_type": "display_data"
    },
    {
     "data": {
      "application/vnd.jupyter.widget-view+json": {
       "model_id": "42e88260cea34ce3989dd9528cec21db",
       "version_major": 2,
       "version_minor": 0
      },
      "text/plain": [
       "HBox(children=(FloatProgress(value=0.0, max=32.0), HTML(value='')))"
      ]
     },
     "metadata": {},
     "output_type": "display_data"
    },
    {
     "data": {
      "application/vnd.jupyter.widget-view+json": {
       "model_id": "ca449de5b5a343a89a97fb67910a690d",
       "version_major": 2,
       "version_minor": 0
      },
      "text/plain": [
       "HBox(children=(FloatProgress(value=0.0, max=31.0), HTML(value='')))"
      ]
     },
     "metadata": {},
     "output_type": "display_data"
    },
    {
     "name": "stdout",
     "output_type": "stream",
     "text": [
      "\n",
      "\n",
      "\n",
      "\n",
      "\n",
      "\n",
      "\n",
      "\n"
     ]
    }
   ],
   "source": [
    "num_cores=mp.cpu_count()\n",
    "print(num_cores)\n",
    "pool=Pool(num_cores)\n",
    "klist_tot=range(N*hkl-1)\n",
    "chunks=[klist_tot[i::num_cores] for i in range(num_cores)]\n",
    "\n",
    "Sqq=[]\n",
    "for Sqq_join in pool.map(sample_Sq, chunks):\n",
    "    Sqq+=[Sqq_join]\n",
    "pool.close()"
   ]
  },
  {
   "cell_type": "code",
   "execution_count": 60,
   "metadata": {},
   "outputs": [],
   "source": [
    "q=(2*np.pi/alatc)*np.arange(0.0,80.0,0.05)\n",
    "Sqqf=np.zeros(q.shape[0])\n",
    "for s in Sqq:\n",
    "    Sqqf+=s"
   ]
  },
  {
   "cell_type": "code",
   "execution_count": 64,
   "metadata": {},
   "outputs": [
    {
     "data": {
      "text/plain": [
       "[<matplotlib.lines.Line2D at 0x152b670790>]"
      ]
     },
     "execution_count": 64,
     "metadata": {},
     "output_type": "execute_result"
    },
    {
     "data": {
      "image/png": "[encoded data removed]",
      "text/plain": [
       "<Figure size 432x288 with 1 Axes>"
      ]
     },
     "metadata": {
      "needs_background": "light"
     },
     "output_type": "display_data"
    }
   ],
   "source": [
    "peak1=(2*np.pi/3.6456999779)*np.sqrt(2**2+0**2+0**2) #(2,0,0)\n",
    "peak2=(2*np.pi/3.6456999779)*np.sqrt(2**2+2**2+0**2) #(2,2,0)\n",
    "peak3=(2*np.pi/3.6456999779)*np.sqrt(4**2+0**2+0**2) #(4,0,0)\n",
    "peak4=(2*np.pi/3.6456999779)*np.sqrt(4**2+2**2+0**2) #(4,2,0)\n",
    "\n",
    "peaks=[\n",
    "       [peak1,peak1],\n",
    "       [peak2,peak2],\n",
    "       [peak3,peak3],\n",
    "       [peak4,peak4],\n",
    "       [peak5,peak5]\n",
    "      ]\n",
    "peak_2=[0,100000]\n",
    "\n",
    "plt.ylim(0,20000)\n",
    "plt.xlim(0,12)\n",
    "\n",
    "plt.plot(peaks[0],peak_2,'--')\n",
    "plt.plot(peaks[1],peak_2,'--')\n",
    "plt.plot(peaks[2],peak_2,'--')\n",
    "plt.plot(peaks[3],peak_2,'--')\n",
    "#plt.plot(peaks[4],peak_2,'--')\n",
    "\n",
    "plt.plot(q[:],Sqqf[:])"
   ]
  },
  {
   "cell_type": "code",
   "execution_count": null,
   "metadata": {},
   "outputs": [],
   "source": [
    "Sq_bcc=np.loadtxt('./sq.dat-bcc')\n",
    "Sq_fcc=np.loadtxt('./sq.dat-fcc')"
   ]
  },
  {
   "cell_type": "code",
   "execution_count": null,
   "metadata": {},
   "outputs": [],
   "source": [
    "peak1=(1*np.pi/2.87)*np.sqrt(1**2+1**2+0**2)\n",
    "peak2=(2*np.pi/2.87)*np.sqrt(2**2+0**2+0**2)\n",
    "peak3=(2*np.pi/2.87)*np.sqrt(3**2+1**2+0**2)\n",
    "peak4=(2*np.pi/2.87)*np.sqrt(3**2+2**2+0**2)\n",
    "peak5=(2*np.pi/2.87)*np.sqrt(4**2+0**2+0**2)\n",
    "\n",
    "peaks=[\n",
    "       [peak1,peak1],\n",
    "       [peak2,peak2],\n",
    "       [peak3,peak3],\n",
    "       [peak4,peak4],\n",
    "       [peak5,peak5]\n",
    "      ]\n",
    "peak_2=[0,100000]\n",
    "\n",
    "plt.ylim(20,90)\n",
    "plt.xlim((0),20)\n",
    "plt.plot(Sq_bcc[:,0], Sq_bcc[:,1])\n",
    "#plt.plot(Sq_fcc[:,0], Sq_fcc[:,1])\n",
    "\n",
    "plt.plot(peaks[0],peak_2,'--')\n",
    "plt.plot(peaks[1],peak_2,'--')\n",
    "plt.plot(peaks[2],peak_2,'--')\n",
    "plt.plot(peaks[3],peak_2,'--')\n",
    "plt.plot(peaks[4],peak_2,'--')"
   ]
  },
  {
   "cell_type": "code",
   "execution_count": null,
   "metadata": {},
   "outputs": [],
   "source": [
    "peak1=(2*np.pi/1)*np.sqrt(1**2 + 1**2 + 1**2)\n",
    "peak2=(2*np.pi/1)*np.sqrt(2**2 + 2**2 + 0**2)\n",
    "\n",
    "peaks=[\n",
    "       [peak1,peak1],\n",
    "       [peak2,peak2],\n",
    "       [peak3,peak3],\n",
    "       [peak4,peak4],\n",
    "       [peak5,peak5]\n",
    "      ]\n",
    "peak_2=[0,100000]\n",
    "\n",
    "\n",
    "plt.ylim(0,20)\n",
    "plt.xlim((2*np.pi/1),20)\n",
    "plt.plot(Sq_fcc[:,0], Sq_fcc[:,1])\n",
    "\n",
    "plt.plot(peaks[0],peak_2,'--')\n"
   ]
  },
  {
   "cell_type": "markdown",
   "metadata": {},
   "source": [
    "### I41/amd solid"
   ]
  },
  {
   "cell_type": "code",
   "execution_count": 198,
   "metadata": {},
   "outputs": [],
   "source": [
    "a=read('./Deuterium/SPOSCAR.xyz')\n",
    "\n",
    "alata=17.6\n",
    "alatc=25.4461211476799996\n",
    "\n",
    "hkl=1\n",
    "N=256\n",
    "pos_grid=np.zeros((N+1,N+1,N+1))\n",
    "\n",
    "rgrida=np.arange(0.0,alata+alata/N,alata/N)\n",
    "rgridc=np.arange(0.0,alatc+alatc/N,alatc/N)\n",
    "\n",
    "for i in range(a.positions.shape[0]):\n",
    "    idx=np.absolute(rgrida-a.positions[i,0]).argmin()\n",
    "    idy=np.absolute(rgrida-a.positions[i,1]).argmin()\n",
    "    idz=np.absolute(rgridc-a.positions[i,2]).argmin()\n",
    "    pos_grid[idx,idy,idz]+=1"
   ]
  },
  {
   "cell_type": "code",
   "execution_count": 199,
   "metadata": {},
   "outputs": [],
   "source": [
    "#Fourier transform\n",
    "#pos_grid=np.random.rand(N+1,N+1,N+1)\n",
    "Sq_fft=fftn(pos_grid)\n",
    "Sq_fft=np.absolute(Sq_fft)"
   ]
  },
  {
   "cell_type": "code",
   "execution_count": 174,
   "metadata": {},
   "outputs": [
    {
     "data": {
      "text/plain": [
       "[<matplotlib.lines.Line2D at 0x152af89f10>]"
      ]
     },
     "execution_count": 174,
     "metadata": {},
     "output_type": "execute_result"
    },
    {
     "data": {
      "image/png": "[encoded data removed]",
      "text/plain": [
       "<Figure size 432x288 with 1 Axes>"
      ]
     },
     "metadata": {
      "needs_background": "light"
     },
     "output_type": "display_data"
    }
   ],
   "source": [
    "plt.plot(range(N+1),Sq_fft[0,0,:])"
   ]
  },
  {
   "cell_type": "code",
   "execution_count": 200,
   "metadata": {},
   "outputs": [],
   "source": [
    "def sample_Sq(klist):\n",
    "    print(alata,alatc,Sq_fft.shape)\n",
    "    q=(2*np.pi/alatc)*np.arange(0.0,260.0,0.05)\n",
    "    Sqq=np.zeros(q.shape[0])\n",
    "    for i in tqdm(klist):\n",
    "        for j in range(N*hkl-1):\n",
    "            for k in range(N*hkl-1):\n",
    "                r0=np.sqrt((2*np.pi/alata*i)**2+(2*np.pi/alata*j)**2+(2*np.pi/alatc*k)**2)\n",
    "                r1=np.sqrt((2*np.pi/alata*i)**2+(2*np.pi/alata*j)**2+(2*np.pi/alatc*(k+1))**2)\n",
    "                                \n",
    "                Sq=Sq_fft[i,j,k]/(4/3*np.pi*(r1**3-r0**3))\n",
    "                Sqq[np.abs(q-r0).argmin()]+=Sq\n",
    "    return Sqq"
   ]
  },
  {
   "cell_type": "code",
   "execution_count": 201,
   "metadata": {},
   "outputs": [
    {
     "name": "stdout",
     "output_type": "stream",
     "text": [
      "8\n",
      "17.6 25.44612114768 (257, 257, 257)\n",
      "17.6 25.44612114768 (257, 257, 257)\n",
      "17.6 25.44612114768 (257, 257, 257)\n",
      "17.6 25.44612114768 (257, 257, 257)\n",
      "17.6 25.44612114768 (257, 257, 257)\n",
      "17.6 25.44612114768 (257, 257, 257)\n",
      "17.6 25.44612114768 (257, 257, 257)\n",
      "17.6 25.44612114768 (257, 257, 257)\n"
     ]
    },
    {
     "data": {
      "application/vnd.jupyter.widget-view+json": {
       "model_id": "cbe8fa1edd044d4eac0a8ca1188b0522",
       "version_major": 2,
       "version_minor": 0
      },
      "text/plain": [
       "HBox(children=(FloatProgress(value=0.0, max=32.0), HTML(value='')))"
      ]
     },
     "metadata": {},
     "output_type": "display_data"
    },
    {
     "data": {
      "application/vnd.jupyter.widget-view+json": {
       "model_id": "63c9fbaf561b44018396a8c8e8f71f5b",
       "version_major": 2,
       "version_minor": 0
      },
      "text/plain": [
       "HBox(children=(FloatProgress(value=0.0, max=32.0), HTML(value='')))"
      ]
     },
     "metadata": {},
     "output_type": "display_data"
    },
    {
     "data": {
      "application/vnd.jupyter.widget-view+json": {
       "model_id": "9fefb6e92de1437698730aa742b537d7",
       "version_major": 2,
       "version_minor": 0
      },
      "text/plain": [
       "HBox(children=(FloatProgress(value=0.0, max=32.0), HTML(value='')))"
      ]
     },
     "metadata": {},
     "output_type": "display_data"
    },
    {
     "data": {
      "application/vnd.jupyter.widget-view+json": {
       "model_id": "60e65b0a4ace482b992aed97cbdd53a4",
       "version_major": 2,
       "version_minor": 0
      },
      "text/plain": [
       "HBox(children=(FloatProgress(value=0.0, max=32.0), HTML(value='')))"
      ]
     },
     "metadata": {},
     "output_type": "display_data"
    },
    {
     "data": {
      "application/vnd.jupyter.widget-view+json": {
       "model_id": "858c9e2a13704ef6b5a1aa8537853ede",
       "version_major": 2,
       "version_minor": 0
      },
      "text/plain": [
       "HBox(children=(FloatProgress(value=0.0, max=32.0), HTML(value='')))"
      ]
     },
     "metadata": {},
     "output_type": "display_data"
    },
    {
     "data": {
      "application/vnd.jupyter.widget-view+json": {
       "model_id": "7c00aad5250e4fb5bc13e945c7dd810d",
       "version_major": 2,
       "version_minor": 0
      },
      "text/plain": [
       "HBox(children=(FloatProgress(value=0.0, max=32.0), HTML(value='')))"
      ]
     },
     "metadata": {},
     "output_type": "display_data"
    },
    {
     "data": {
      "application/vnd.jupyter.widget-view+json": {
       "model_id": "99472033751b478b9a308be744c120fe",
       "version_major": 2,
       "version_minor": 0
      },
      "text/plain": [
       "HBox(children=(FloatProgress(value=0.0, max=31.0), HTML(value='')))"
      ]
     },
     "metadata": {},
     "output_type": "display_data"
    },
    {
     "data": {
      "application/vnd.jupyter.widget-view+json": {
       "model_id": "3ee35deebaf74c51bd25fedd199b061d",
       "version_major": 2,
       "version_minor": 0
      },
      "text/plain": [
       "HBox(children=(FloatProgress(value=0.0, max=32.0), HTML(value='')))"
      ]
     },
     "metadata": {},
     "output_type": "display_data"
    },
    {
     "name": "stdout",
     "output_type": "stream",
     "text": [
      "\n",
      "\n",
      "\n",
      "\n",
      "\n",
      "\n",
      "\n",
      "\n"
     ]
    }
   ],
   "source": [
    "num_cores=mp.cpu_count()\n",
    "print(num_cores)\n",
    "pool=Pool(num_cores)\n",
    "klist_tot=range(N*hkl-1)\n",
    "chunks=[klist_tot[i::num_cores] for i in range(num_cores)]\n",
    "\n",
    "Sqq=[]\n",
    "for Sqq_join in pool.map(sample_Sq, chunks):\n",
    "    Sqq+=[Sqq_join]\n",
    "pool.close()"
   ]
  },
  {
   "cell_type": "code",
   "execution_count": 202,
   "metadata": {},
   "outputs": [],
   "source": [
    "q=(2*np.pi/alatc)*np.arange(0.0,260.0,0.05)\n",
    "Sqqf=np.zeros(q.shape[0])\n",
    "for s in Sqq:\n",
    "    Sqqf+=s"
   ]
  },
  {
   "cell_type": "code",
   "execution_count": 203,
   "metadata": {},
   "outputs": [],
   "source": [
    "Sqqf_classic=Sqqf"
   ]
  },
  {
   "cell_type": "markdown",
   "metadata": {},
   "source": [
    "### supersolid phase"
   ]
  },
  {
   "cell_type": "code",
   "execution_count": 214,
   "metadata": {},
   "outputs": [],
   "source": [
    "a=np.loadtxt(\"../Results/atoms-pimd-65.csv\", delimiter=\",\")\n",
    "#a=np.loadtxt(\"../Results/atoms-116.csv\", delimiter=\",\")"
   ]
  },
  {
   "cell_type": "code",
   "execution_count": 215,
   "metadata": {},
   "outputs": [
    {
     "data": {
      "text/plain": [
       "65.0"
      ]
     },
     "execution_count": 215,
     "metadata": {},
     "output_type": "execute_result"
    }
   ],
   "source": [
    "a.shape[0]/128/128"
   ]
  },
  {
   "cell_type": "code",
   "execution_count": 216,
   "metadata": {},
   "outputs": [
    {
     "data": {
      "application/vnd.jupyter.widget-view+json": {
       "model_id": "d9ad4f9fb8994ef0aa03f9648ff314b2",
       "version_major": 2,
       "version_minor": 0
      },
      "text/plain": [
       "HBox(children=(FloatProgress(value=0.0, max=1064960.0), HTML(value='')))"
      ]
     },
     "metadata": {},
     "output_type": "display_data"
    },
    {
     "name": "stdout",
     "output_type": "stream",
     "text": [
      "\n"
     ]
    }
   ],
   "source": [
    "alata=4.38\n",
    "alatc=6.33\n",
    "\n",
    "hkl=1\n",
    "N=64\n",
    "pos_grid=np.zeros((N+1,N+1,N+1))\n",
    "\n",
    "rgrida=np.arange(0.0,alata+alata/N,alata/N)\n",
    "rgridc=np.arange(0.0,alatc+alatc/N,alatc/N)\n",
    "\n",
    "for i in trange(a.shape[0]):\n",
    "    idx=np.absolute(rgrida-a[i,0]).argmin()\n",
    "    idy=np.absolute(rgrida-a[i,1]).argmin()\n",
    "    idz=np.absolute(rgridc-a[i,2]).argmin()\n",
    "    pos_grid[idx,idy,idz]+=1/65/128"
   ]
  },
  {
   "cell_type": "raw",
   "metadata": {},
   "source": [
    "pos_grid[0,0,:]"
   ]
  },
  {
   "cell_type": "code",
   "execution_count": 217,
   "metadata": {},
   "outputs": [],
   "source": [
    "supercell=4\n",
    "alata*=supercell\n",
    "alatc*=supercell\n",
    "\n",
    "pos_grid_sup=np.zeros((supercell*pos_grid.shape[0],supercell*pos_grid.shape[1],supercell*pos_grid.shape[2]))\n",
    "\n",
    "for i in range(supercell):\n",
    "    for j in range(supercell):\n",
    "        for k in range(supercell):\n",
    "            pos_grid_sup[i*pos_grid.shape[0]:(i+1)*pos_grid.shape[0],\n",
    "                         j*pos_grid.shape[1]:(j+1)*pos_grid.shape[1],\n",
    "                         k*pos_grid.shape[2]:(k+1)*pos_grid.shape[2]] = pos_grid"
   ]
  },
  {
   "cell_type": "code",
   "execution_count": 189,
   "metadata": {},
   "outputs": [
    {
     "data": {
      "text/plain": [
       "(260, 260, 260)"
      ]
     },
     "execution_count": 189,
     "metadata": {},
     "output_type": "execute_result"
    }
   ],
   "source": [
    "pos_grid_sup.shape"
   ]
  },
  {
   "cell_type": "code",
   "execution_count": 218,
   "metadata": {},
   "outputs": [],
   "source": [
    "#Fourier transform\n",
    "#pos_grid=np.random.rand(N+1,N+1,N+1)\n",
    "Sq_fft=fftn(pos_grid_sup)\n",
    "Sq_fft=np.absolute(Sq_fft)"
   ]
  },
  {
   "cell_type": "raw",
   "metadata": {},
   "source": [
    "plt.plot(range(supercell*(N+1)),   Sq_fft[0,12,:])\n",
    "#plt.plot(range(N+1),4*Ssq_fft[12,32,:])"
   ]
  },
  {
   "cell_type": "code",
   "execution_count": 219,
   "metadata": {},
   "outputs": [],
   "source": [
    "def sample_Sq(klist):\n",
    "    print(alata,alatc,Sq_fft.shape)\n",
    "    q=(2*np.pi/alatc)*np.arange(0.0,260.0,0.05)\n",
    "    Sqq=np.zeros(q.shape[0])\n",
    "    for i in tqdm(klist):\n",
    "        for j in range(N*supercell-1):\n",
    "            for k in range(N*supercell-1):\n",
    "                r0=np.sqrt((2*np.pi/alata*i)**2+(2*np.pi/alata*j)**2+(2*np.pi/alatc*k)**2)\n",
    "                r1=np.sqrt((2*np.pi/alata*i)**2+(2*np.pi/alata*j)**2+(2*np.pi/alatc*(k+1))**2)\n",
    "                                \n",
    "                Sq=Sq_fft[i,j,k]/(4/3*np.pi*(r1**3-r0**3))\n",
    "                Sqq[np.abs(q-r0).argmin()]+=Sq\n",
    "    return Sqq"
   ]
  },
  {
   "cell_type": "code",
   "execution_count": 220,
   "metadata": {
    "scrolled": true
   },
   "outputs": [
    {
     "name": "stdout",
     "output_type": "stream",
     "text": [
      "8\n",
      "17.52 25.32 (260, 260, 260)\n",
      "17.52 25.32 (260, 260, 260)\n",
      "17.52 25.32 (260, 260, 260)\n",
      "17.52 25.32 (260, 260, 260)\n",
      "17.52 25.32 (260, 260, 260)\n",
      "17.52 25.32 (260, 260, 260)\n",
      "17.52 25.32 (260, 260, 260)\n",
      "17.52 25.32 (260, 260, 260)\n"
     ]
    },
    {
     "data": {
      "application/vnd.jupyter.widget-view+json": {
       "model_id": "78b67f2c1da4455e90d4b081ec8217a5",
       "version_major": 2,
       "version_minor": 0
      },
      "text/plain": [
       "HBox(children=(FloatProgress(value=0.0, max=32.0), HTML(value='')))"
      ]
     },
     "metadata": {},
     "output_type": "display_data"
    },
    {
     "data": {
      "application/vnd.jupyter.widget-view+json": {
       "model_id": "4c5cea90ddeb43e7880a905f42978f1b",
       "version_major": 2,
       "version_minor": 0
      },
      "text/plain": [
       "HBox(children=(FloatProgress(value=0.0, max=32.0), HTML(value='')))"
      ]
     },
     "metadata": {},
     "output_type": "display_data"
    },
    {
     "data": {
      "application/vnd.jupyter.widget-view+json": {
       "model_id": "30f58ec97522476abce517e4f926cd23",
       "version_major": 2,
       "version_minor": 0
      },
      "text/plain": [
       "HBox(children=(FloatProgress(value=0.0, max=32.0), HTML(value='')))"
      ]
     },
     "metadata": {},
     "output_type": "display_data"
    },
    {
     "data": {
      "application/vnd.jupyter.widget-view+json": {
       "model_id": "783bfed9a00d4bfe9564423f193ce631",
       "version_major": 2,
       "version_minor": 0
      },
      "text/plain": [
       "HBox(children=(FloatProgress(value=0.0, max=32.0), HTML(value='')))"
      ]
     },
     "metadata": {},
     "output_type": "display_data"
    },
    {
     "data": {
      "application/vnd.jupyter.widget-view+json": {
       "model_id": "7507f829680a407b841d2c5ef6bb5f67",
       "version_major": 2,
       "version_minor": 0
      },
      "text/plain": [
       "HBox(children=(FloatProgress(value=0.0, max=32.0), HTML(value='')))"
      ]
     },
     "metadata": {},
     "output_type": "display_data"
    },
    {
     "data": {
      "application/vnd.jupyter.widget-view+json": {
       "model_id": "5e8cc5a667164ab8807942d883a60c4e",
       "version_major": 2,
       "version_minor": 0
      },
      "text/plain": [
       "HBox(children=(FloatProgress(value=0.0, max=32.0), HTML(value='')))"
      ]
     },
     "metadata": {},
     "output_type": "display_data"
    },
    {
     "data": {
      "application/vnd.jupyter.widget-view+json": {
       "model_id": "2aa5a297dd6b43d98a34af8efc70a7a2",
       "version_major": 2,
       "version_minor": 0
      },
      "text/plain": [
       "HBox(children=(FloatProgress(value=0.0, max=32.0), HTML(value='')))"
      ]
     },
     "metadata": {},
     "output_type": "display_data"
    },
    {
     "data": {
      "application/vnd.jupyter.widget-view+json": {
       "model_id": "83d2f6498768495c8847c4d18b558cd0",
       "version_major": 2,
       "version_minor": 0
      },
      "text/plain": [
       "HBox(children=(FloatProgress(value=0.0, max=31.0), HTML(value='')))"
      ]
     },
     "metadata": {},
     "output_type": "display_data"
    },
    {
     "name": "stdout",
     "output_type": "stream",
     "text": [
      "\n",
      "\n",
      "\n",
      "\n",
      "\n",
      "\n",
      "\n",
      "\n"
     ]
    }
   ],
   "source": [
    "num_cores=mp.cpu_count()\n",
    "print(num_cores)\n",
    "pool=Pool(num_cores)\n",
    "klist_tot=range(N*supercell-1)\n",
    "chunks=[klist_tot[i::num_cores] for i in range(num_cores)]\n",
    "\n",
    "Sqq=[]\n",
    "for Sqq_join in pool.map(sample_Sq, chunks):\n",
    "    Sqq+=[Sqq_join]\n",
    "pool.close()"
   ]
  },
  {
   "cell_type": "code",
   "execution_count": 221,
   "metadata": {},
   "outputs": [],
   "source": [
    "q=(2*np.pi/alatc)*np.arange(0.0,260.0,0.05)\n",
    "Sqqf=np.zeros(q.shape[0])\n",
    "for s in Sqq:\n",
    "    Sqqf+=s"
   ]
  },
  {
   "cell_type": "code",
   "execution_count": 222,
   "metadata": {},
   "outputs": [],
   "source": [
    "Sqqf_pimd=Sqqf"
   ]
  },
  {
   "cell_type": "code",
   "execution_count": 239,
   "metadata": {},
   "outputs": [
    {
     "data": {
      "text/plain": [
       "[<matplotlib.lines.Line2D at 0x152b7b5690>]"
      ]
     },
     "execution_count": 239,
     "metadata": {},
     "output_type": "execute_result"
    },
    {
     "data": {
      "image/png": "[encoded data removed]",
      "text/plain": [
       "<Figure size 432x288 with 1 Axes>"
      ]
     },
     "metadata": {
      "needs_background": "light"
     },
     "output_type": "display_data"
    }
   ],
   "source": [
    "#plt.xlim(0.0,2)\n",
    "plt.ylim(0,1000)\n",
    "plt.plot(q[:],Sqqf_pimd[:]/2,'-')\n",
    "plt.plot(q,Sqqf_classic/4)\n",
    "plt.plot(q,2*Sqqf_super,'-')\n",
    "\n"
   ]
  },
  {
   "cell_type": "markdown",
   "metadata": {},
   "source": [
    "### solid supercell"
   ]
  },
  {
   "cell_type": "code",
   "execution_count": null,
   "metadata": {},
   "outputs": [],
   "source": [
    "a=read('./Deuterium/CPOSCAR.xyz')\n",
    "\n",
    "alata=4.28\n",
    "alatc=5.966\n",
    "\n",
    "hkl=4\n",
    "N=128\n",
    "pos_grid=np.zeros((N+1,N+1,N+1))\n",
    "\n",
    "rgrida=np.arange(0.0,alata+alata/N,alata/N)\n",
    "rgridc=np.arange(0.0,alatc+alatc/N,alatc/N)\n",
    "\n",
    "for i in range(a.positions.shape[0]):\n",
    "    idx=np.absolute(rgrida-a.positions[i,0]).argmin()\n",
    "    idy=np.absolute(rgrida-a.positions[i,1]).argmin()\n",
    "    idz=np.absolute(rgridc-a.positions[i,2]).argmin()\n",
    "    pos_grid[idx,idy,idz]+=1"
   ]
  },
  {
   "cell_type": "code",
   "execution_count": null,
   "metadata": {},
   "outputs": [],
   "source": [
    "#Fourier transform\n",
    "Sq_fft=fftn(pos_grid)\n",
    "Sq_fft=np.absolute(Sq_fft/np.count_nonzero(pos_grid))\n",
    "#q=(2*np.pi/alatc)*np.arange(0.0,hkl*2*np.pi/alatc*np.sqrt(3),0.001)"
   ]
  },
  {
   "cell_type": "raw",
   "metadata": {},
   "source": [
    "Sq_fft_hkl=np.zeros((hkl*Sq_fft.shape[0],hkl*Sq_fft.shape[1],hkl*Sq_fft.shape[2]))\n",
    "\n",
    "for i in trange(hkl):\n",
    "    for j in range(hkl):\n",
    "        for k in range(hkl):\n",
    "            Sq_fft_hkl[i*Sq_fft.shape[0]:(i+1)*Sq_fft.shape[0],\n",
    "                       j*Sq_fft.shape[1]:(j+1)*Sq_fft.shape[1],\n",
    "                       k*Sq_fft.shape[2]:(k+1)*Sq_fft.shape[2]] = Sq_fft"
   ]
  },
  {
   "cell_type": "code",
   "execution_count": null,
   "metadata": {},
   "outputs": [],
   "source": [
    "plt.plot(range(N+1),Sq_fft[0,0,:])"
   ]
  },
  {
   "cell_type": "markdown",
   "metadata": {},
   "source": [
    "wrapper function"
   ]
  },
  {
   "cell_type": "code",
   "execution_count": null,
   "metadata": {},
   "outputs": [],
   "source": [
    "def sample_Sq(klist):\n",
    "    print(alata,alatc,Sq_fft.shape)\n",
    "    q=(2*np.pi/alatc)*np.arange(0.0,hkl*2*np.pi/alatc*np.sqrt(3),0.01)\n",
    "    Sqq=np.zeros(q.shape[0])\n",
    "    for i in tqdm(klist):\n",
    "        for j in range(N*hkl-1):\n",
    "            for k in range(N*hkl-1):\n",
    "                r0=np.sqrt(2*np.pi/alata*((i)/N)**2 + 2*np.pi/alata*((j)/N)**2 + 2*np.pi/alatc*((k)/N)**2)\n",
    "                r1_a=np.sqrt(2*np.pi/alata*((i+1)/N)**2 + 2*np.pi/alata*((j)/N)**2 + 2*np.pi/alatc*((k)/N)**2)\n",
    "                r1_b=np.sqrt(2*np.pi/alata*((i)/N)**2 + 2*np.pi/alata*((j)/N)**2 + 2*np.pi/alatc*((k+1)/N)**2)\n",
    "                r1=np.maximum(r1_a,r1_b)\n",
    "\n",
    "                Sq=Sq_fft[int(i%Sq_fft.shape[0]),int(j%Sq_fft.shape[1]),int(k%Sq_fft.shape[2])]/(4/3*np.pi*(r1**3-r0**3))\n",
    "                Sqq[np.abs(q-r0).argmin()]+=Sq\n",
    "    return Sqq"
   ]
  },
  {
   "cell_type": "raw",
   "metadata": {},
   "source": [
    "klist=range(N*hkl-1)\n",
    "sample_Sq(klist)"
   ]
  },
  {
   "cell_type": "code",
   "execution_count": null,
   "metadata": {
    "scrolled": true
   },
   "outputs": [],
   "source": [
    "num_cores=mp.cpu_count()\n",
    "pool=Pool(num_cores)\n",
    "klist_tot=range(N*hkl-1)\n",
    "chunks=[klist_tot[i::num_cores] for i in range(num_cores)]\n",
    "\n",
    "#sample_Sq(chunks[1])\n",
    "\n",
    "#Sqq = [pool.apply(sample_Sq, args=(row,Sq_fft)) for row in tqdm(chunks)]\n",
    "#pool.close()\n",
    "\n",
    "Sqq=[]\n",
    "for Sqq_join in pool.map(sample_Sq, chunks):\n",
    "    Sqq+=[Sqq_join]\n",
    "pool.close()\n",
    "#pool.join()"
   ]
  },
  {
   "cell_type": "code",
   "execution_count": null,
   "metadata": {},
   "outputs": [],
   "source": [
    "q=(2*np.pi/alatc)*np.arange(0.0,hkl*2*np.pi/alatc*np.sqrt(3),0.01)\n",
    "Sqqf=np.zeros(q.shape[0])\n",
    "for s in Sqq:\n",
    "    Sqqf+=s"
   ]
  },
  {
   "cell_type": "raw",
   "metadata": {},
   "source": [
    "q=(2*np.pi/alatc)*np.arange(0.0,hkl*2*np.pi/alatc*np.sqrt(3),0.01)\n",
    "Sqq=np.zeros(q.shape[0])\n",
    "\n",
    "for i in trange(N*hkl-1):\n",
    "    for j in range(N*hkl-1):\n",
    "        for k in range(N*hkl-1):\n",
    "            r0=np.sqrt(2*np.pi/alata*((i)/N)**2 + 2*np.pi/alata*((j)/N)**2 + 2*np.pi/alatc*((k)/N)**2)\n",
    "            r1_a=np.sqrt(2*np.pi/alata*((i+1)/N)**2 + 2*np.pi/alata*((j)/N)**2 + 2*np.pi/alatc*((k)/N)**2)\n",
    "            r1_b=np.sqrt(2*np.pi/alata*((i)/N)**2 + 2*np.pi/alata*((j)/N)**2 + 2*np.pi/alatc*((k+1)/N)**2)\n",
    "            r1=np.maximum(r1_a,r1_b)\n",
    "            \n",
    "            Sq=Sq_fft[int(i%Sq_fft.shape[0]),int(j%Sq_fft.shape[1]),int(k%Sq_fft.shape[2])]/(4/3*np.pi*(r1**3-r0**3))\n",
    "            Sqq[np.abs(q-r0).argmin()]+=Sq"
   ]
  },
  {
   "cell_type": "raw",
   "metadata": {},
   "source": [
    "q=(2*np.pi/alatc)*np.arange(0.0,hkl*np.sqrt(3),0.1)\n",
    "\n",
    "Sqq=np.zeros(q.shape[0])\n",
    "for i in trange(Sq.shape[0]):\n",
    "    Sqq[np.abs(q-Sq[i,0]).argmin()]+=Sq[i,1]"
   ]
  },
  {
   "cell_type": "code",
   "execution_count": null,
   "metadata": {
    "scrolled": true
   },
   "outputs": [],
   "source": [
    "plt.xlim(-0.5,14)\n",
    "plt.ylim(0,20000)\n",
    "plt.plot(q[:],Sqqf[:],'p')"
   ]
  },
  {
   "cell_type": "markdown",
   "metadata": {},
   "source": [
    "## Unitcell"
   ]
  },
  {
   "cell_type": "code",
   "execution_count": null,
   "metadata": {},
   "outputs": [],
   "source": [
    "a=read('./Deuterium/POSCAR-unit.xyz')\n",
    "\n",
    "alata=1.1\n",
    "alatc=3.18076514346\n",
    "\n",
    "hkl=1\n",
    "N=32\n",
    "pos_grid=np.zeros((N+1,N+1,N+1))\n",
    "\n",
    "rgrida=np.arange(0.0,alata+alata/N,alata/N)\n",
    "rgridc=np.arange(0.0,alatc+alatc/N,alatc/N)\n",
    "\n",
    "for i in range(a.positions.shape[0]):\n",
    "    idx=np.absolute(rgrida-a.positions[i,0]).argmin()\n",
    "    idy=np.absolute(rgrida-a.positions[i,1]).argmin()\n",
    "    idz=np.absolute(rgridc-a.positions[i,2]).argmin()\n",
    "    pos_grid[idx,idy,idz]+=1"
   ]
  },
  {
   "cell_type": "code",
   "execution_count": null,
   "metadata": {},
   "outputs": [],
   "source": [
    "#Fourier transform\n",
    "Sq_fft=fftn(pos_grid)\n",
    "Sq_fft=np.absolute(Sq_fft/np.count_nonzero(pos_grid))"
   ]
  },
  {
   "cell_type": "markdown",
   "metadata": {},
   "source": [
    "This is too demanding and inefficient!"
   ]
  },
  {
   "cell_type": "raw",
   "metadata": {},
   "source": [
    "Sq_fft_hkl=np.zeros((hkl*Sq_fft.shape[0],hkl*Sq_fft.shape[1],hkl*Sq_fft.shape[2]))\n",
    "\n",
    "for i in range(hkl):\n",
    "    for j in range(hkl):\n",
    "        for k in range(hkl):\n",
    "            Sq_fft_hkl[i*Sq_fft.shape[0]:(i+1)*Sq_fft.shape[0],\n",
    "                       j*Sq_fft.shape[1]:(j+1)*Sq_fft.shape[1],\n",
    "                       k*Sq_fft.shape[2]:(k+1)*Sq_fft.shape[2]] = Sq_fft"
   ]
  },
  {
   "cell_type": "code",
   "execution_count": null,
   "metadata": {},
   "outputs": [],
   "source": [
    "plt.plot(range((N+1)),Sq_fft[:,0,0])"
   ]
  },
  {
   "cell_type": "code",
   "execution_count": null,
   "metadata": {},
   "outputs": [],
   "source": [
    "q_u=(2*np.pi/alatc)*np.arange(0.0,hkl*2*np.pi/alatc*np.sqrt(3),0.001)\n",
    "Sqq_u=np.zeros(q_u.shape[0])\n",
    "\n",
    "for i in trange(N*hkl-1):\n",
    "    for j in range(N*hkl-1):\n",
    "        for k in range(N*hkl-1):\n",
    "            r0=np.sqrt(2*np.pi/alata*((i)/N)**2 + 2*np.pi/alata*((j)/N)**2 + 2*np.pi/alatc*((k)/N)**2)\n",
    "            r1_a=np.sqrt(2*np.pi/alata*((i+1)/N)**2 + 2*np.pi/alata*((j)/N)**2 + 2*np.pi/alatc*((k)/N)**2)\n",
    "            r1_b=np.sqrt(2*np.pi/alata*((i)/N)**2 + 2*np.pi/alata*((j)/N)**2 + 2*np.pi/alatc*((k+1)/N)**2)\n",
    "            r1=np.maximum(r1_a,r1_b)\n",
    "            \n",
    "            Sq=Sq_fft[int(i%Sq_fft.shape[0]),int(j%Sq_fft.shape[1]),int(k%Sq_fft.shape[2])]/(4/3*np.pi*(r1**3-r0**3))\n",
    "            Sqq_u[np.abs(q_u-r0).argmin()]+=Sq"
   ]
  },
  {
   "cell_type": "code",
   "execution_count": null,
   "metadata": {},
   "outputs": [],
   "source": [
    "Sqq_u.shape"
   ]
  },
  {
   "cell_type": "raw",
   "metadata": {},
   "source": [
    "q=(2*np.pi/alatc)*np.arange(0.0,hkl*2*np.pi/alatc*np.sqrt(3),0.1)\n",
    "\n",
    "Sqq=np.zeros(q.shape[0])\n",
    "for i in trange(Sq.shape[0]):\n",
    "    Sqq[np.abs(q-Sq[i,0]).argmin()]+=Sq[i,1]"
   ]
  },
  {
   "cell_type": "raw",
   "metadata": {},
   "source": [
    "np.savetxt('sq.dat',Sqq)"
   ]
  },
  {
   "cell_type": "code",
   "execution_count": null,
   "metadata": {},
   "outputs": [],
   "source": [
    "plt.ylim(0,300)\n",
    "plt.xlim(0,15)\n",
    "plt.plot(q_u[:],Sqq_u[:],'-')"
   ]
  },
  {
   "cell_type": "markdown",
   "metadata": {},
   "source": [
    "### Plot: Solid vs. quantum solid phases"
   ]
  },
  {
   "cell_type": "code",
   "execution_count": null,
   "metadata": {},
   "outputs": [],
   "source": [
    "sq_solid=np.loadtxt('./sq.dat')\n",
    "sq_qsolid=np.loadtxt('./sq.dat-q')"
   ]
  },
  {
   "cell_type": "code",
   "execution_count": null,
   "metadata": {},
   "outputs": [],
   "source": [
    "fig, axs = plt.subplots(1,2, sharex=True, sharey=True)\n",
    "plt.subplots_adjust(wspace=.05)\n",
    "\n",
    "axs[0].set_ylim(0.6,1.0)\n",
    "axs[0].set_xlim(-0.5,8.0)\n",
    "\n",
    "axs[0].set_yticks(np.arange(0.6, 1.01, .1))\n",
    "axs[0].tick_params(axis=\"y\", labelsize=12, direction='in')\n",
    "\n",
    "axs[0].set_xticks(np.arange(0.0, 8.01, 2.0))\n",
    "axs[0].tick_params(axis=\"x\", labelsize=12, direction='in')\n",
    "\n",
    "axs[0].set_xlabel('|q| ($\\AA^{-1}$)', fontsize=16)\n",
    "axs[0].set_ylabel('Structure factor S(q)', fontsize=16)\n",
    "\n",
    "axs[0].plot(sq_solid[:,0], sq_solid[:,1]/300000, color='#00A0EB', label='$I4_1/amd$')\n",
    "axs[0].legend()\n",
    "\n",
    "axs[1].set_xlabel('|q| ($\\AA^{-1}$)', fontsize=16)\n",
    "axs[1].tick_params(axis=\"x\", labelsize=12, direction='in')\n",
    "axs[1].tick_params(axis=\"y\", labelsize=12, direction='in')\n",
    "\n",
    "axs[1].plot(sq_qsolid[:,0], sq_qsolid[:,1]*2, color='#F54169', label='Quantum solid')\n",
    "axs[1].legend()"
   ]
  },
  {
   "cell_type": "code",
   "execution_count": null,
   "metadata": {},
   "outputs": [],
   "source": [
    "p 'sq.dat-q' u 1:($2*2) w l , 'sq.dat' u 1:($2/300000) w l"
   ]
  }
 ],
 "metadata": {
  "kernelspec": {
   "display_name": "Python 3",
   "language": "python",
   "name": "python3"
  },
  "language_info": {
   "codemirror_mode": {
    "name": "ipython",
    "version": 3
   },
   "file_extension": ".py",
   "mimetype": "text/x-python",
   "name": "python",
   "nbconvert_exporter": "python",
   "pygments_lexer": "ipython3",
   "version": "3.7.6"
  }
 },
 "nbformat": 4,
 "nbformat_minor": 4
}
