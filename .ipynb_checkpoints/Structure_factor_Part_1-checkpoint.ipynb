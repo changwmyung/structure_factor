{
 "cells": [
  {
   "cell_type": "markdown",
   "metadata": {},
   "source": [
    "# Structure factor\n",
    "\n",
    "Written by Chang Woo Myung (ETHZ, USI)"
   ]
  },
  {
   "cell_type": "markdown",
   "metadata": {},
   "source": [
    "## Theory"
   ]
  },
  {
   "cell_type": "markdown",
   "metadata": {},
   "source": [
    "By definition (in condensed matter physics and crystallography), the static structure factor (or structure factor for short) is a mathematical description of how a material scatters incident radiation that is the X-ray from the core of atoms (like Cu K $\\alpha$). "
   ]
  },
  {
   "cell_type": "markdown",
   "metadata": {},
   "source": [
    "## Useful links\n",
    "\n",
    "Some of useful information regarding the structure factor is presented as below:\n",
    "\n",
    " - https://en.wikipedia.org/wiki/Structure_factor\n",
    " - https://jscatter.readthedocs.io/en/latest/structurefactor.html\n",
    " - https://pure.mpg.de/rest/items/item_2055745/component/file_2055744/content\n",
    " - https://scipython.com/book/chapter-6-numpy/additional-problems/structure-factors-for-perfect-crystals/\n",
    " - https://lammps.sandia.gov/doc/compute_xrd.html\n",
    "\n",
    "## Tutorials\n",
    "\n",
    "In this simple tutorial, I approach in two different directions to calculate the structure factor $S(q)$: \n",
    "\n",
    "(1) by calculating a complex function $\\psi(q)=\\sum_j^N f_j e^{-iqR_j}$ (called scattering wavefunction) and calculate the strucuture factor by $\\frac{1}{N} \\psi(q)\\psi^*(q)$ (modulus). \n",
    "\n",
    "(2) by using the Fast Fourier Transformation (FFT) algorithm, on a real space mesh grid. \n",
    "\n",
    "The example systems are Fe BCC and FCC crystals, where the analytic solutions are well-known.\n",
    "\n",
    "I personally favor the FFT approach (since it's quite convinient and numerically neat). Also, because I need to calculate the structure factor of the deuterium local density $n(r)$, it's more reliable to use the FFT library to Fourier transform the density (which is numerical data).  "
   ]
  },
  {
   "cell_type": "markdown",
   "metadata": {},
   "source": [
    "## Code"
   ]
  },
  {
   "cell_type": "code",
   "execution_count": 1,
   "metadata": {},
   "outputs": [],
   "source": [
    "import ase\n",
    "import numpy as np\n",
    "import matplotlib.pyplot as plt\n",
    "from scipy.integrate import simps\n",
    "from scipy.fft import fftn, ifftn\n",
    "import matplotlib.cm as cm\n",
    "from numpy import linalg as LA\n",
    "from tqdm import tqdm_notebook\n",
    "from tqdm.notebook import trange,tqdm\n",
    "from ase.io import read, write\n",
    "from ase.neighborlist import build_neighbor_list, natural_cutoffs\n",
    "from ase.build import make_supercell\n",
    "import multiprocessing as mp\n",
    "from multiprocessing import Pool\n",
    "import os"
   ]
  },
  {
   "cell_type": "markdown",
   "metadata": {},
   "source": [
    "### 1. Explicit Fourier transform for S(q) "
   ]
  },
  {
   "cell_type": "markdown",
   "metadata": {},
   "source": [
    "### 1.1. FCC Fe crystal"
   ]
  },
  {
   "cell_type": "markdown",
   "metadata": {},
   "source": [
    "We first calculate the $S(q)$ of Fe FCC crystal whose lattice constant is 3.6457 Anstrom. To calculate the Fourier component at the momentum $q$, we collect the positions of atoms in the unit-cell (or it could be supercell). But also keep in mind that you need to choose the $q$-mesh grid carefully unless incomplete interference (caused by a wrong $q$-mesh grid) could silence the proper peaks. "
   ]
  },
  {
   "cell_type": "code",
   "execution_count": 2,
   "metadata": {},
   "outputs": [],
   "source": [
    "alat=3.6456999779\n",
    "atoms=read('./Fe-FCC/SPOSCAR')\n",
    "list_atoms_positions=atoms.positions"
   ]
  },
  {
   "cell_type": "markdown",
   "metadata": {},
   "source": [
    "And then we define a $q-$mesh to explore. Here basically we are trying to calculate up to $q_{max}=\\frac{2\\pi}{a}\\times10$. We choose 31 grids in the interval [0,$q_{max}$]."
   ]
  },
  {
   "cell_type": "code",
   "execution_count": 3,
   "metadata": {},
   "outputs": [],
   "source": [
    "ngrid=31\n",
    "hkl=10\n",
    "q0=np.linspace(0, hkl, ngrid)\n",
    "qx,qy,qz=np.meshgrid(q0,q0,q0,indexing='ij')"
   ]
  },
  {
   "cell_type": "markdown",
   "metadata": {},
   "source": [
    "The function `sample_psiq` then (1) calculate the Fourier component $\\psi(q)$ for all $q-$mesh and (2) make a spherical histogram so as to obtain the $\\psi(|q|)$ which is a function of modulus $q$. Here, I made a wrapper function so that the parallelization would be possible in `Python`. "
   ]
  },
  {
   "cell_type": "markdown",
   "metadata": {},
   "source": [
    "Also, there is another complication arising because of the Compton scattering with respect to the momentum $q$. To deal with this we define a quantity called the atomic scattering factor $f_j$ of atom type $j$. \n",
    "\n",
    "\\begin{eqnarray}\n",
    "f_j(|q|) = \\sum_{i=1}^{4} a_i e^{-b_i(|q|)^2} + c\n",
    "\\end{eqnarray}\n",
    "\n",
    "We retreive the atomic scattering factor of Fe from the literatures and LAMMPS source file. [1] Colliex et al. International Tables for Crystallography Volume C: Mathematical and Chemical Tables, 249-429 (2004). [2] https://lammps.sandia.gov/doc/compute_xrd.html.\n",
    "\n",
    "|A1    |B1    |A2    |B2    |A3    |B3    |A4    |B4    |C    |\n",
    "|------|------|------|------|------|------|------|------|-----|\n",
    "|11.7695|4.7611|7.3573|0.3072|3.5222|15.3535|2.3045|76.8805|1.0369|"
   ]
  },
  {
   "cell_type": "code",
   "execution_count": 4,
   "metadata": {},
   "outputs": [],
   "source": [
    "def atomic_scattering_Fe(q):\n",
    "    a=[11.7695,7.3573,3.5222,2.3045]\n",
    "    b=[4.7611,0.3072,15.3535,76.8805]\n",
    "    c=1.0369\n",
    "    \n",
    "    fjq=0.0\n",
    "    for ai,bi in zip(a,b):\n",
    "        fjq+=ai*np.exp(-bi*q**2)\n",
    "    \n",
    "    return fjq+c"
   ]
  },
  {
   "cell_type": "code",
   "execution_count": 5,
   "metadata": {},
   "outputs": [],
   "source": [
    "def sample_psiq(ngrid_list):\n",
    "    alat=3.6456999779\n",
    "    atoms=read('./Fe-FCC/SPOSCAR')\n",
    "    list_atoms_positions=atoms.positions\n",
    "    ngrid=31\n",
    "    hkl=10\n",
    "    q0=np.linspace(0, hkl, ngrid)\n",
    "    qx,qy,qz=np.meshgrid(q0,q0,q0,indexing='ij')\n",
    "    \n",
    "    print(\"alat: \",alat)\n",
    "    \n",
    "    psiq=[]\n",
    "    for i in tqdm(ngrid_list):\n",
    "        for j in range(ngrid-1):\n",
    "            for k in range(ngrid-1):\n",
    "                psi_q=0\n",
    "                for loc in list_atoms_positions:\n",
    "                    q=2*np.pi/alat*np.array([qx[i,j,k], qy[i,j,k], qz[i,j,k]])\n",
    "                    q1=2*np.pi/alat*np.array([qx[i+1,j,k], qy[i,j,k], qz[i,j,k]])\n",
    "                    delq=(4/3)*np.pi*np.abs(LA.norm(q1)**3-LA.norm(q)**3)\n",
    "\n",
    "                    rq=np.dot(q,np.array(loc))\n",
    "                    psi_q+=atomic_scattering_Fe(LA.norm(q)) * np.exp(-1j * rq)/delq\n",
    "                psiq+=[[LA.norm(q),psi_q]]\n",
    "    return psiq"
   ]
  },
  {
   "cell_type": "code",
   "execution_count": 6,
   "metadata": {
    "collapsed": true
   },
   "outputs": [
    {
     "name": "stdout",
     "output_type": "stream",
     "text": [
      "number of cores:  8\n",
      "alat:  3.6456999779\n",
      "alat:  3.6456999779\n",
      "alat:  3.6456999779\n",
      "alat:  3.6456999779\n",
      "alat:  3.6456999779\n",
      "alat:  3.6456999779\n",
      "alat:  3.6456999779\n",
      "alat:  3.6456999779\n"
     ]
    },
    {
     "data": {
      "application/vnd.jupyter.widget-view+json": {
       "model_id": "46bed56a7e9846d39bef5fd56629b049",
       "version_major": 2,
       "version_minor": 0
      },
      "text/plain": [
       "HBox(children=(FloatProgress(value=0.0, max=4.0), HTML(value='')))"
      ]
     },
     "metadata": {},
     "output_type": "display_data"
    },
    {
     "data": {
      "application/vnd.jupyter.widget-view+json": {
       "model_id": "b6c8a17a77314a29a152eed9b50f3efe",
       "version_major": 2,
       "version_minor": 0
      },
      "text/plain": [
       "HBox(children=(FloatProgress(value=0.0, max=4.0), HTML(value='')))"
      ]
     },
     "metadata": {},
     "output_type": "display_data"
    },
    {
     "data": {
      "application/vnd.jupyter.widget-view+json": {
       "model_id": "356aa01af887408cbe41234e062610c5",
       "version_major": 2,
       "version_minor": 0
      },
      "text/plain": [
       "HBox(children=(FloatProgress(value=0.0, max=4.0), HTML(value='')))"
      ]
     },
     "metadata": {},
     "output_type": "display_data"
    },
    {
     "data": {
      "application/vnd.jupyter.widget-view+json": {
       "model_id": "ba9c836dcbbb4220a245ddb68e476d2f",
       "version_major": 2,
       "version_minor": 0
      },
      "text/plain": [
       "HBox(children=(FloatProgress(value=0.0, max=4.0), HTML(value='')))"
      ]
     },
     "metadata": {},
     "output_type": "display_data"
    },
    {
     "data": {
      "application/vnd.jupyter.widget-view+json": {
       "model_id": "ea06e0c76d88489ea61af2100e0b416d",
       "version_major": 2,
       "version_minor": 0
      },
      "text/plain": [
       "HBox(children=(FloatProgress(value=0.0, max=3.0), HTML(value='')))"
      ]
     },
     "metadata": {},
     "output_type": "display_data"
    },
    {
     "data": {
      "application/vnd.jupyter.widget-view+json": {
       "model_id": "5fb88e3e319f437c90120be0675a818e",
       "version_major": 2,
       "version_minor": 0
      },
      "text/plain": [
       "HBox(children=(FloatProgress(value=0.0, max=3.0), HTML(value='')))"
      ]
     },
     "metadata": {},
     "output_type": "display_data"
    },
    {
     "data": {
      "application/vnd.jupyter.widget-view+json": {
       "model_id": "19d1437b0ef64c6d989d86466d3f5641",
       "version_major": 2,
       "version_minor": 0
      },
      "text/plain": [
       "HBox(children=(FloatProgress(value=0.0, max=4.0), HTML(value='')))"
      ]
     },
     "metadata": {},
     "output_type": "display_data"
    },
    {
     "data": {
      "application/vnd.jupyter.widget-view+json": {
       "model_id": "62f4be5df26348a79a0c9e7fd5ef5ae2",
       "version_major": 2,
       "version_minor": 0
      },
      "text/plain": [
       "HBox(children=(FloatProgress(value=0.0, max=4.0), HTML(value='')))"
      ]
     },
     "metadata": {},
     "output_type": "display_data"
    },
    {
     "name": "stdout",
     "output_type": "stream",
     "text": [
      "\n",
      "\n",
      "\n",
      "\n",
      "\n",
      "\n",
      "\n",
      "\n"
     ]
    }
   ],
   "source": [
    "num_cores=mp.cpu_count()\n",
    "print(\"number of cores: \",num_cores)\n",
    "pool=Pool(num_cores)\n",
    "ngrid_list_tot=range(ngrid-1)\n",
    "chunks=[ngrid_list_tot[i::num_cores] for i in range(num_cores)]\n",
    "\n",
    "psiql=[]\n",
    "for psiq_join in pool.map(sample_psiq, chunks):\n",
    "    psiql+=[psiq_join]\n",
    "pool.close()\n",
    "\n",
    "#collect and join psiq from each core\n",
    "psiq=[]\n",
    "for p in psiql:\n",
    "    for pp in p:\n",
    "        psiq.append(pp)\n",
    "psiq=np.array(psiq)"
   ]
  },
  {
   "cell_type": "markdown",
   "metadata": {},
   "source": [
    "And finally, we calculate the absolute value of the scattering wavefunction to calculate the scattering intensity (so called XRD peaks; in this case since all the directional components are lost, it's called powder XRD)."
   ]
  },
  {
   "cell_type": "code",
   "execution_count": 7,
   "metadata": {},
   "outputs": [],
   "source": [
    "psiq=np.absolute(psiq)"
   ]
  },
  {
   "cell_type": "code",
   "execution_count": 8,
   "metadata": {},
   "outputs": [
    {
     "data": {
      "application/vnd.jupyter.widget-view+json": {
       "model_id": "ca17037da54c4f8b813dcfc1cf10849b",
       "version_major": 2,
       "version_minor": 0
      },
      "text/plain": [
       "HBox(children=(FloatProgress(value=0.0, max=26999.0), HTML(value='')))"
      ]
     },
     "metadata": {},
     "output_type": "display_data"
    },
    {
     "name": "stdout",
     "output_type": "stream",
     "text": [
      "\n"
     ]
    }
   ],
   "source": [
    "q=(2*np.pi/alat)*np.arange(0.0,hkl*np.sqrt(3),0.01)\n",
    "psiqq=np.zeros(q.shape[0])\n",
    "for i in trange(psiq.shape[0]-1):\n",
    "    j=np.abs(q-psiq[i,0]).argmin()\n",
    "    psiqq[j]+=psiq[i,1]"
   ]
  },
  {
   "cell_type": "code",
   "execution_count": 30,
   "metadata": {},
   "outputs": [
    {
     "data": {
      "image/png": "[encoded data removed]",
      "text/plain": [
       "<Figure size 432x288 with 1 Axes>"
      ]
     },
     "metadata": {
      "needs_background": "light"
     },
     "output_type": "display_data"
    }
   ],
   "source": [
    "peak1=(2*np.pi/3.6456999779)*np.sqrt(1**2+1**2+1**2) #(2,0,0)\n",
    "peak2=(2*np.pi/3.6456999779)*np.sqrt(2**2+0**2+0**2) #(2,2,0)\n",
    "peak3=(2*np.pi/3.6456999779)*np.sqrt(2**2+2**2+0**2) #(2,2,0)\n",
    "peak4=(2*np.pi/3.6456999779)*np.sqrt(3**2+1**2+1**2) #(3,1,1)\n",
    "peak5=(2*np.pi/3.6456999779)*np.sqrt(2**2+2**2+2**2) #(2,2,2)\n",
    "peak6=(2*np.pi/3.6456999779)*np.sqrt(4**2+0**2+0**2) #(4,0,0)\n",
    "\n",
    "peaks=[\n",
    "       [peak1,peak1],\n",
    "       [peak2,peak2],\n",
    "       [peak3,peak3],\n",
    "       [peak4,peak4],\n",
    "       [peak5,peak5],\n",
    "       [peak6,peak6]\n",
    "      ]\n",
    "peak_2=[0,100000]\n",
    "\n",
    "plt.xlim((2*np.pi/alat)*(hkl/(ngrid-1)),20)\n",
    "plt.ylim(0,50)\n",
    "plt.tick_params(axis=\"y\", labelsize=12, direction='in')\n",
    "plt.tick_params(axis=\"x\", labelsize=12, direction='in')\n",
    "\n",
    "plt.title('Structure factor S(|q|) of FCC Fe',fontsize=16)\n",
    "plt.xlabel('|q| ($\\AA^{-1}$)', fontsize=16)\n",
    "plt.ylabel('Structure factor S(|q|)', fontsize=16)\n",
    "\n",
    "plt.plot(peaks[0],peak_2,'--',label='hkl=(111)')\n",
    "plt.plot(peaks[1],peak_2,'--',label='hkl=(200)')\n",
    "plt.plot(peaks[2],peak_2,'--',label='hkl=(220)')\n",
    "plt.plot(peaks[3],peak_2,'--',label='hkl=(311)')\n",
    "plt.plot(peaks[4],peak_2,'--',label='hkl=(222)')\n",
    "plt.plot(peaks[5],peak_2,'--',label='hkl=(400)')\n",
    "\n",
    "plt.legend()\n",
    "plt.plot(q[:-2],psiqq[:-2],'-')\n",
    "plt.savefig('sq-fe-fcc.png',dpi=300,bbox_inches = \"tight\")"
   ]
  },
  {
   "cell_type": "markdown",
   "metadata": {},
   "source": [
    "As you could find from the above figure our code works well given the theoretical diffraction peaks appear with the condition for FCC crystal:\n",
    "\n",
    "\\begin{eqnarray}\n",
    "F_{hkl} = \n",
    "  \\begin{cases}\n",
    "    4f       & \\quad \\text{if } (h,k,l) \\text{ all even or all odd}\\\\\n",
    "    0      & \\quad \\text{if } (h,k,l)   \\text{ mixed parity}\n",
    "  \\end{cases}\n",
    "\\end{eqnarray}"
   ]
  },
  {
   "cell_type": "markdown",
   "metadata": {},
   "source": [
    "### 1.2. BCC Fe crystal"
   ]
  },
  {
   "cell_type": "markdown",
   "metadata": {},
   "source": [
    "Now we follow the same trail."
   ]
  },
  {
   "cell_type": "code",
   "execution_count": 32,
   "metadata": {},
   "outputs": [],
   "source": [
    "alat=2.87\n",
    "atoms=read('./Fe-BCC/SPOSCAR')\n",
    "list_atoms_positions=atoms.positions\n",
    "\n",
    "ngrid=21\n",
    "hkl=10\n",
    "q0=np.linspace(0, hkl, ngrid)\n",
    "qx,qy,qz=np.meshgrid(q0,q0,q0,indexing='ij')"
   ]
  },
  {
   "cell_type": "code",
   "execution_count": 33,
   "metadata": {},
   "outputs": [],
   "source": [
    "def sample_psiq(ngrid_list):\n",
    "    alat=2.87\n",
    "    atoms=read('./Fe-BCC/SPOSCAR')\n",
    "    list_atoms_positions=atoms.positions\n",
    "    ngrid=21\n",
    "    hkl=10\n",
    "    q0=np.linspace(0, hkl, ngrid)\n",
    "    qx,qy,qz=np.meshgrid(q0,q0,q0,indexing='ij')\n",
    "    \n",
    "    print(\"alat: \",alat)\n",
    "    \n",
    "    psiq=[]\n",
    "    for i in tqdm(ngrid_list):\n",
    "        for j in range(ngrid-1):\n",
    "            for k in range(ngrid-1):\n",
    "                psi_q=0\n",
    "                for loc in list_atoms_positions:\n",
    "                    q=2*np.pi/alat*np.array([qx[i,j,k], qy[i,j,k], qz[i,j,k]])\n",
    "                    q1=2*np.pi/alat*np.array([qx[i+1,j,k], qy[i,j,k], qz[i,j,k]])\n",
    "                    delq=(4/3)*np.pi*np.abs(LA.norm(q1)**3-LA.norm(q)**3)\n",
    "\n",
    "                    rq=np.dot(q,np.array(loc))\n",
    "                    psi_q+=atomic_scattering_Fe(LA.norm(q)) * np.exp(-1j * rq)/delq\n",
    "                psiq+=[[LA.norm(q),psi_q]]\n",
    "    return psiq"
   ]
  },
  {
   "cell_type": "code",
   "execution_count": 34,
   "metadata": {
    "collapsed": true
   },
   "outputs": [
    {
     "name": "stdout",
     "output_type": "stream",
     "text": [
      "number of cores:  8\n",
      "alat:  2.87\n",
      "alat:  2.87\n",
      "alat:  2.87\n",
      "alat:  2.87\n",
      "alat:  2.87\n",
      "alat:  2.87\n",
      "alat:  2.87\n",
      "alat:  2.87\n"
     ]
    },
    {
     "data": {
      "application/vnd.jupyter.widget-view+json": {
       "model_id": "779c226ece98416eb075913e1cc5a5ee",
       "version_major": 2,
       "version_minor": 0
      },
      "text/plain": [
       "HBox(children=(FloatProgress(value=0.0, max=2.0), HTML(value='')))"
      ]
     },
     "metadata": {},
     "output_type": "display_data"
    },
    {
     "data": {
      "application/vnd.jupyter.widget-view+json": {
       "model_id": "8e15c473e95f4ad2bb8cc0a34662eb56",
       "version_major": 2,
       "version_minor": 0
      },
      "text/plain": [
       "HBox(children=(FloatProgress(value=0.0, max=3.0), HTML(value='')))"
      ]
     },
     "metadata": {},
     "output_type": "display_data"
    },
    {
     "data": {
      "application/vnd.jupyter.widget-view+json": {
       "model_id": "95b940e5af1e49e88fdec30eb7a80942",
       "version_major": 2,
       "version_minor": 0
      },
      "text/plain": [
       "HBox(children=(FloatProgress(value=0.0, max=3.0), HTML(value='')))"
      ]
     },
     "metadata": {},
     "output_type": "display_data"
    },
    {
     "data": {
      "application/vnd.jupyter.widget-view+json": {
       "model_id": "21115bda4cee4c0fb6f06fc853b39488",
       "version_major": 2,
       "version_minor": 0
      },
      "text/plain": [
       "HBox(children=(FloatProgress(value=0.0, max=3.0), HTML(value='')))"
      ]
     },
     "metadata": {},
     "output_type": "display_data"
    },
    {
     "data": {
      "application/vnd.jupyter.widget-view+json": {
       "model_id": "01248f8a99bc48409f09c32462aee218",
       "version_major": 2,
       "version_minor": 0
      },
      "text/plain": [
       "HBox(children=(FloatProgress(value=0.0, max=2.0), HTML(value='')))"
      ]
     },
     "metadata": {},
     "output_type": "display_data"
    },
    {
     "data": {
      "application/vnd.jupyter.widget-view+json": {
       "model_id": "b32ef4a512ae4968900ac411eb8300c8",
       "version_major": 2,
       "version_minor": 0
      },
      "text/plain": [
       "HBox(children=(FloatProgress(value=0.0, max=2.0), HTML(value='')))"
      ]
     },
     "metadata": {},
     "output_type": "display_data"
    },
    {
     "data": {
      "application/vnd.jupyter.widget-view+json": {
       "model_id": "82564a7653af411f9d53080567c9bb26",
       "version_major": 2,
       "version_minor": 0
      },
      "text/plain": [
       "HBox(children=(FloatProgress(value=0.0, max=2.0), HTML(value='')))"
      ]
     },
     "metadata": {},
     "output_type": "display_data"
    },
    {
     "data": {
      "application/vnd.jupyter.widget-view+json": {
       "model_id": "6a4828f1fab446d6a70ad2fc761fe2b5",
       "version_major": 2,
       "version_minor": 0
      },
      "text/plain": [
       "HBox(children=(FloatProgress(value=0.0, max=3.0), HTML(value='')))"
      ]
     },
     "metadata": {},
     "output_type": "display_data"
    },
    {
     "name": "stdout",
     "output_type": "stream",
     "text": [
      "\n",
      "\n",
      "\n",
      "\n",
      "\n",
      "\n",
      "\n",
      "\n"
     ]
    }
   ],
   "source": [
    "num_cores=mp.cpu_count()\n",
    "print(\"number of cores: \",num_cores)\n",
    "pool=Pool(num_cores)\n",
    "ngrid_list_tot=range(ngrid-1)\n",
    "chunks=[ngrid_list_tot[i::num_cores] for i in range(num_cores)]\n",
    "\n",
    "psiql=[]\n",
    "for psiq_join in pool.map(sample_psiq, chunks):\n",
    "    psiql+=[psiq_join]\n",
    "pool.close()\n",
    "\n",
    "#collect and join psiq from each core\n",
    "psiq=[]\n",
    "for p in psiql:\n",
    "    for pp in p:\n",
    "        psiq.append(pp)\n",
    "psiq=np.array(psiq)"
   ]
  },
  {
   "cell_type": "code",
   "execution_count": 35,
   "metadata": {},
   "outputs": [
    {
     "data": {
      "application/vnd.jupyter.widget-view+json": {
       "model_id": "82a0382e737e43d79b240aabcca8479d",
       "version_major": 2,
       "version_minor": 0
      },
      "text/plain": [
       "HBox(children=(FloatProgress(value=0.0, max=7999.0), HTML(value='')))"
      ]
     },
     "metadata": {},
     "output_type": "display_data"
    },
    {
     "name": "stdout",
     "output_type": "stream",
     "text": [
      "\n"
     ]
    }
   ],
   "source": [
    "psiq=np.absolute(psiq)\n",
    "\n",
    "q=(2*np.pi/alat)*np.arange(0.0,hkl*np.sqrt(3),0.01)\n",
    "psiqq=np.zeros(q.shape[0])\n",
    "for i in trange(psiq.shape[0]-1):\n",
    "    j=np.abs(q-psiq[i,0]).argmin()\n",
    "    psiqq[j]+=psiq[i,1]"
   ]
  },
  {
   "cell_type": "code",
   "execution_count": 47,
   "metadata": {},
   "outputs": [
    {
     "data": {
      "image/png": "[encoded data removed]",
      "text/plain": [
       "<Figure size 432x288 with 1 Axes>"
      ]
     },
     "metadata": {
      "needs_background": "light"
     },
     "output_type": "display_data"
    }
   ],
   "source": [
    "peak1=(2*np.pi/alat)*np.sqrt(1**2+1**2+0**2) #(1,1,0)\n",
    "peak2=(2*np.pi/alat)*np.sqrt(2**2+0**2+0**2) #(2,0,0)\n",
    "peak3=(2*np.pi/alat)*np.sqrt(2**2+1**2+1**2) #(2,1,1)\n",
    "peak4=(2*np.pi/alat)*np.sqrt(2**2+2**2+0**2) #(2,2,0)\n",
    "peak5=(2*np.pi/alat)*np.sqrt(3**2+1**2+0**2) #(3,1,0)\n",
    "peak6=(2*np.pi/alat)*np.sqrt(2**2+2**2+2**2) #(2,2,2)\n",
    "\n",
    "peaks=[\n",
    "       [peak1,peak1],\n",
    "       [peak2,peak2],\n",
    "       [peak3,peak3],\n",
    "       [peak4,peak4],\n",
    "       [peak5,peak5],\n",
    "       [peak6,peak6]\n",
    "      ]\n",
    "peak_2=[0,100000]\n",
    "\n",
    "plt.xlim((2*np.pi/alat)*(hkl/(ngrid-1)),20)\n",
    "plt.ylim(0,2)\n",
    "plt.tick_params(axis=\"y\", labelsize=12, direction='in')\n",
    "plt.tick_params(axis=\"x\", labelsize=12, direction='in')\n",
    "\n",
    "plt.title('Structure factor S(|q|) of BCC Fe',fontsize=16)\n",
    "plt.xlabel('|q| ($\\AA^{-1}$)', fontsize=16)\n",
    "plt.ylabel('Structure factor S(|q|)', fontsize=16)\n",
    "\n",
    "plt.plot(peaks[0],peak_2,'--',label='hkl=(110)')\n",
    "plt.plot(peaks[1],peak_2,'--',label='hkl=(200)')\n",
    "plt.plot(peaks[2],peak_2,'--',label='hkl=(211)')\n",
    "plt.plot(peaks[3],peak_2,'--',label='hkl=(220)')\n",
    "plt.plot(peaks[4],peak_2,'--',label='hkl=(310)')\n",
    "plt.plot(peaks[5],peak_2,'--',label='hkl=(222)')\n",
    "\n",
    "plt.legend()\n",
    "plt.plot(q[:-2],psiqq[:-2],'-')\n",
    "plt.savefig('sq-fe-bcc.png',dpi=300,bbox_inches = \"tight\")"
   ]
  },
  {
   "cell_type": "code",
   "execution_count": null,
   "metadata": {},
   "outputs": [],
   "source": []
  }
 ],
 "metadata": {
  "kernelspec": {
   "display_name": "Python 3",
   "language": "python",
   "name": "python3"
  },
  "language_info": {
   "codemirror_mode": {
    "name": "ipython",
    "version": 3
   },
   "file_extension": ".py",
   "mimetype": "text/x-python",
   "name": "python",
   "nbconvert_exporter": "python",
   "pygments_lexer": "ipython3",
   "version": "3.7.6"
  }
 },
 "nbformat": 4,
 "nbformat_minor": 4
}
