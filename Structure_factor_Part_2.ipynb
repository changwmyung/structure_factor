{
 "cells": [
  {
   "cell_type": "markdown",
   "metadata": {},
   "source": [
    "# Structure factor: Part 2\n",
    "\n",
    "Written by Chang Woo Myung (ETHZ, USI)"
   ]
  },
  {
   "cell_type": "markdown",
   "metadata": {},
   "source": [
    "In the Part 1, we explicitly calculated the Fourier component at the specific $q$ value to calculate the structure factor $S(|q|)$. Here, now we calculate the $S(q)$ in a more elegant way (I would say, but some would disagree) by using the Fast Fourier Transform (FFT) algorithm."
   ]
  },
  {
   "cell_type": "code",
   "execution_count": 35,
   "metadata": {},
   "outputs": [],
   "source": [
    "import ase\n",
    "import numpy as np\n",
    "import matplotlib.pyplot as plt\n",
    "from scipy.integrate import simps\n",
    "from scipy.fft import fftn, ifftn, fftfreq\n",
    "import matplotlib.cm as cm\n",
    "from numpy import linalg as LA\n",
    "from tqdm import tqdm_notebook\n",
    "from tqdm.notebook import trange,tqdm\n",
    "from ase.io import read, write\n",
    "from ase.neighborlist import build_neighbor_list, natural_cutoffs\n",
    "from ase.build import make_supercell\n",
    "import multiprocessing as mp\n",
    "from multiprocessing import Pool\n",
    "import os"
   ]
  },
  {
   "cell_type": "markdown",
   "metadata": {},
   "source": [
    "## FFT algorithm"
   ]
  },
  {
   "cell_type": "markdown",
   "metadata": {},
   "source": [
    "Among others, here we employ the discrete FFT (DFT) where the $q$-mesh grid is defined as $\\frac{2\\pi}{a_{lat}}\\times i$ ($i=0,1,2,...,N-1$). The Fourier component ($a_q$) is then calculated as \n",
    "\n",
    "\\begin{eqnarray}\n",
    "a_q = \\sum_{m=0}^{N-1} a_m e^{-i\\frac{2\\pi}{N}m},\n",
    "\\end{eqnarray}\n",
    "\n",
    "where the real-space component is $a_m$. Here this real-space component would correspond to the atomic positions (or atomic local density).\n",
    "\n",
    "Keep in mind that the real-space data we use defines the $q-$mesh grid spacing. If we use the unit-cell, then the $q-$mesh grid spacing would be $\\frac{2\\pi}{a_{lat}}$. Also, the number of grid for real-space and $q-$space are equal. Therefore, to obtain a detailed structure factor using the DFT, you need to use a large supercell structure. Here, I use a ($12 \\times 12 \\times 12$) supercell structure thereby using $\\frac{1}{12}\\frac{2\\pi}{a}$ $q-$mesh grid."
   ]
  },
  {
   "cell_type": "markdown",
   "metadata": {},
   "source": [
    "### 2.1. FCC Fe crystal"
   ]
  },
  {
   "cell_type": "code",
   "execution_count": 36,
   "metadata": {},
   "outputs": [],
   "source": [
    "a=read('./Fe-FCC/SPOSCAR')\n",
    "\n",
    "alat_u=3.6456999779\n",
    "sup=12\n",
    "alata=alat_u*sup\n",
    "alatc=alat_u*sup\n",
    "\n",
    "N=sup*10\n",
    "pos_grid=np.zeros((N+1,N+1,N+1))\n",
    "\n",
    "rgrida=np.arange(0.0,alata+alata/N,alata/N)\n",
    "rgridc=np.arange(0.0,alatc+alatc/N,alatc/N)\n",
    "\n",
    "for i in range(a.positions.shape[0]):\n",
    "    idx=np.absolute(rgrida-a.positions[i,0]).argmin()\n",
    "    idy=np.absolute(rgrida-a.positions[i,1]).argmin()\n",
    "    idz=np.absolute(rgridc-a.positions[i,2]).argmin()\n",
    "    pos_grid[idx,idy,idz]+=1"
   ]
  },
  {
   "cell_type": "markdown",
   "metadata": {},
   "source": [
    "After loading the position information of the crystal, we simply do the DFT, which is one line command."
   ]
  },
  {
   "cell_type": "code",
   "execution_count": 37,
   "metadata": {},
   "outputs": [],
   "source": [
    "#Fourier transform\n",
    "Sq_fft=fftn(pos_grid)\n",
    "Sq_fft=np.absolute(Sq_fft)"
   ]
  },
  {
   "cell_type": "code",
   "execution_count": 38,
   "metadata": {},
   "outputs": [
    {
     "name": "stdout",
     "output_type": "stream",
     "text": [
      "6912.0\n",
      "6584.0466574515685\n"
     ]
    }
   ],
   "source": [
    "print(Sq_fft[0,0,0])\n",
    "print(Sq_fft[sup,sup,sup])"
   ]
  },
  {
   "cell_type": "markdown",
   "metadata": {},
   "source": [
    "And as we have talked about the atomic scattering factor, we add this functionality."
   ]
  },
  {
   "cell_type": "code",
   "execution_count": 39,
   "metadata": {},
   "outputs": [],
   "source": [
    "def atomic_scattering_Fe(q):\n",
    "    a=[11.7695,7.3573,3.5222,2.3045]\n",
    "    b=[4.7611,0.3072,15.3535,76.8805]\n",
    "    c=1.0369\n",
    "    \n",
    "    fjq=0.0\n",
    "    for ai,bi in zip(a,b):\n",
    "        fjq+=ai*np.exp(-bi*q**2)\n",
    "    \n",
    "    return fjq+c"
   ]
  },
  {
   "cell_type": "code",
   "execution_count": 40,
   "metadata": {},
   "outputs": [],
   "source": [
    "def sample_Sq(klist):\n",
    "    print(alata,alatc,Sq_fft.shape)\n",
    "    #q=(2*np.pi/alatc)*np.arange(0.0,10.0,0.01)\n",
    "    Sqq=[]\n",
    "    for i in tqdm(klist):\n",
    "        for j in range(N-1):\n",
    "            for k in range(N-1):\n",
    "                r0=2*np.pi/alata*np.sqrt(i**2+j**2+k**2)\n",
    "                r1=2*np.pi/alata*np.sqrt((i+1)**2+j**2+k**2)\n",
    "                Sq=atomic_scattering_Fe(r0)*Sq_fft[i,j,k]/(4/3*np.pi*(r1**3-r0**3))\n",
    "                Sqq+=[[r0,Sq]]\n",
    "    return Sqq"
   ]
  },
  {
   "cell_type": "code",
   "execution_count": 41,
   "metadata": {},
   "outputs": [
    {
     "name": "stdout",
     "output_type": "stream",
     "text": [
      "The number of cores:  8\n",
      "43.7483997348 43.7483997348 (121, 121, 121)\n",
      "43.7483997348 43.7483997348 (121, 121, 121)\n",
      "43.7483997348 43.7483997348 (121, 121, 121)\n",
      "43.7483997348 43.7483997348 (121, 121, 121)\n",
      "43.7483997348 43.7483997348 (121, 121, 121)\n",
      "43.7483997348 43.7483997348 (121, 121, 121)\n",
      "43.7483997348 43.7483997348 (121, 121, 121)\n",
      "43.7483997348 43.7483997348 (121, 121, 121)\n"
     ]
    },
    {
     "data": {
      "application/vnd.jupyter.widget-view+json": {
       "model_id": "22d89a2b7f5747718e58cef75b00cbbe",
       "version_major": 2,
       "version_minor": 0
      },
      "text/plain": [
       "HBox(children=(FloatProgress(value=0.0, max=15.0), HTML(value='')))"
      ]
     },
     "metadata": {},
     "output_type": "display_data"
    },
    {
     "data": {
      "application/vnd.jupyter.widget-view+json": {
       "model_id": "109c876c3433408facc368c0e3b6d69c",
       "version_major": 2,
       "version_minor": 0
      },
      "text/plain": [
       "HBox(children=(FloatProgress(value=0.0, max=15.0), HTML(value='')))"
      ]
     },
     "metadata": {},
     "output_type": "display_data"
    },
    {
     "data": {
      "application/vnd.jupyter.widget-view+json": {
       "model_id": "5d21134c9ee44349bedbb048eb8327c7",
       "version_major": 2,
       "version_minor": 0
      },
      "text/plain": [
       "HBox(children=(FloatProgress(value=0.0, max=15.0), HTML(value='')))"
      ]
     },
     "metadata": {},
     "output_type": "display_data"
    },
    {
     "data": {
      "application/vnd.jupyter.widget-view+json": {
       "model_id": "10d88dbc39d24331a006e1f3704b9c2c",
       "version_major": 2,
       "version_minor": 0
      },
      "text/plain": [
       "HBox(children=(FloatProgress(value=0.0, max=15.0), HTML(value='')))"
      ]
     },
     "metadata": {},
     "output_type": "display_data"
    },
    {
     "data": {
      "application/vnd.jupyter.widget-view+json": {
       "model_id": "1d20cf6a856d4e21a1f6df10473587e2",
       "version_major": 2,
       "version_minor": 0
      },
      "text/plain": [
       "HBox(children=(FloatProgress(value=0.0, max=15.0), HTML(value='')))"
      ]
     },
     "metadata": {},
     "output_type": "display_data"
    },
    {
     "data": {
      "application/vnd.jupyter.widget-view+json": {
       "model_id": "9d626b4b67a44d32916cf5e4ebe049c4",
       "version_major": 2,
       "version_minor": 0
      },
      "text/plain": [
       "HBox(children=(FloatProgress(value=0.0, max=15.0), HTML(value='')))"
      ]
     },
     "metadata": {},
     "output_type": "display_data"
    },
    {
     "data": {
      "application/vnd.jupyter.widget-view+json": {
       "model_id": "128e947962ce4535a342ada1c65d2226",
       "version_major": 2,
       "version_minor": 0
      },
      "text/plain": [
       "HBox(children=(FloatProgress(value=0.0, max=15.0), HTML(value='')))"
      ]
     },
     "metadata": {},
     "output_type": "display_data"
    },
    {
     "data": {
      "application/vnd.jupyter.widget-view+json": {
       "model_id": "3d1644a17ccd42b8ba028e75ef8c2bca",
       "version_major": 2,
       "version_minor": 0
      },
      "text/plain": [
       "HBox(children=(FloatProgress(value=0.0, max=14.0), HTML(value='')))"
      ]
     },
     "metadata": {},
     "output_type": "display_data"
    },
    {
     "name": "stdout",
     "output_type": "stream",
     "text": [
      "\n",
      "\n",
      "\n",
      "\n",
      "\n",
      "\n",
      "\n",
      "\n"
     ]
    }
   ],
   "source": [
    "num_cores=mp.cpu_count()\n",
    "print(\"The number of cores: \",num_cores)\n",
    "pool=Pool(num_cores)\n",
    "klist_tot=range(N-1)\n",
    "chunks=[klist_tot[i::num_cores] for i in range(num_cores)]\n",
    "\n",
    "Sqql=[]\n",
    "for Sqq_join in pool.map(sample_Sq, chunks):\n",
    "    Sqql+=[Sqq_join]\n",
    "pool.close()\n",
    "\n",
    "#collect and join psiq from each core\n",
    "Sqq=[]\n",
    "for p in Sqql:\n",
    "    for pp in p:\n",
    "        Sqq.append(pp)\n",
    "Sqq=np.array(Sqq)"
   ]
  },
  {
   "cell_type": "code",
   "execution_count": 42,
   "metadata": {},
   "outputs": [
    {
     "data": {
      "application/vnd.jupyter.widget-view+json": {
       "model_id": "4ec2d2c5c7774566bf34661ad0855b7f",
       "version_major": 2,
       "version_minor": 0
      },
      "text/plain": [
       "HBox(children=(FloatProgress(value=0.0, max=1685158.0), HTML(value='')))"
      ]
     },
     "metadata": {},
     "output_type": "display_data"
    },
    {
     "name": "stdout",
     "output_type": "stream",
     "text": [
      "\n"
     ]
    }
   ],
   "source": [
    "q=(2*np.pi/alat_u)*np.arange(0.0,10.0,0.01)\n",
    "Sqqf=np.zeros(q.shape[0])\n",
    "for i in trange(Sqq.shape[0]-1):\n",
    "    j=np.abs(q-Sqq[i,0]).argmin()\n",
    "    Sqqf[j]+=Sqq[i,1]"
   ]
  },
  {
   "cell_type": "markdown",
   "metadata": {},
   "source": [
    "Although FFT enables a very quick calculation (and handy indeed), we also notice lots of noises in $q-$space, and these big noises could silence some of weak peaks. Thus, one should be careful interpreting the result when using the FFT.  "
   ]
  },
  {
   "cell_type": "code",
   "execution_count": 43,
   "metadata": {},
   "outputs": [
    {
     "data": {
      "image/png": "[encoded data removed]",
      "text/plain": [
       "<Figure size 432x288 with 1 Axes>"
      ]
     },
     "metadata": {
      "needs_background": "light"
     },
     "output_type": "display_data"
    }
   ],
   "source": [
    "peak1=(2*np.pi/3.6456999779)*np.sqrt(1**2+1**2+1**2) #(1,1,1)\n",
    "peak2=(2*np.pi/3.6456999779)*np.sqrt(2**2+0**2+0**2) #(2,0,0)\n",
    "peak3=(2*np.pi/3.6456999779)*np.sqrt(2**2+2**2+0**2) #(2,2,0)\n",
    "peak4=(2*np.pi/3.6456999779)*np.sqrt(3**2+1**2+1**2) #(3,1,1)\n",
    "peak5=(2*np.pi/3.6456999779)*np.sqrt(2**2+2**2+2**2) #(2,2,2)\n",
    "peak6=(2*np.pi/3.6456999779)*np.sqrt(4**2+0**2+0**2) #(4,0,0)\n",
    "\n",
    "peaks=[\n",
    "       [peak1,peak1],\n",
    "       [peak2,peak2],\n",
    "       [peak3,peak3],\n",
    "       [peak4,peak4],\n",
    "       [peak5,peak5],\n",
    "       [peak6,peak6]\n",
    "      ]\n",
    "peak_2=[0,100000]\n",
    "\n",
    "plt.xlim((2*np.pi/alat_u),20)\n",
    "plt.ylim(0,10)\n",
    "plt.tick_params(axis=\"y\", labelsize=12, direction='in')\n",
    "plt.tick_params(axis=\"x\", labelsize=12, direction='in')\n",
    "\n",
    "plt.title('Structure factor S(|q|) of FCC Fe w FFT',fontsize=16)\n",
    "plt.xlabel('|q| ($\\AA^{-1}$)', fontsize=16)\n",
    "plt.ylabel('Structure factor S(|q|)', fontsize=16)\n",
    "\n",
    "\n",
    "plt.plot(q[:-1],Sqqf[:-1]/2000,'-')\n",
    "\n",
    "plt.plot(peaks[0],peak_2,'--',label='hkl=(111)')\n",
    "plt.plot(peaks[1],peak_2,'--',label='hkl=(200)')\n",
    "plt.plot(peaks[2],peak_2,'--',label='hkl=(220)')\n",
    "plt.plot(peaks[3],peak_2,'--',label='hkl=(311)')\n",
    "plt.plot(peaks[4],peak_2,'--',label='hkl=(222)')\n",
    "plt.plot(peaks[5],peak_2,'--',label='hkl=(400)')\n",
    "\n",
    "plt.legend()\n",
    "plt.savefig('sq-fe-fcc-fft.png',dpi=300,bbox_inches = \"tight\")"
   ]
  },
  {
   "cell_type": "markdown",
   "metadata": {},
   "source": [
    "### 2.2. BCC Fe crystal"
   ]
  },
  {
   "cell_type": "code",
   "execution_count": 44,
   "metadata": {},
   "outputs": [],
   "source": [
    "a=read('./Fe-BCC/SPOSCAR')\n",
    "\n",
    "alat_u=2.87\n",
    "sup=12\n",
    "alata=alat_u*sup\n",
    "alatc=alat_u*sup\n",
    "\n",
    "N=sup*10\n",
    "pos_grid=np.zeros((N+1,N+1,N+1))\n",
    "\n",
    "rgrida=np.arange(0.0,alata+alata/N,alata/N)\n",
    "rgridc=np.arange(0.0,alatc+alatc/N,alatc/N)\n",
    "\n",
    "for i in range(a.positions.shape[0]):\n",
    "    idx=np.absolute(rgrida-a.positions[i,0]).argmin()\n",
    "    idy=np.absolute(rgrida-a.positions[i,1]).argmin()\n",
    "    idz=np.absolute(rgridc-a.positions[i,2]).argmin()\n",
    "    pos_grid[idx,idy,idz]+=1"
   ]
  },
  {
   "cell_type": "code",
   "execution_count": 45,
   "metadata": {},
   "outputs": [],
   "source": [
    "#Fourier transform\n",
    "Sq_fft=fftn(pos_grid)\n",
    "Sq_fft=np.absolute(Sq_fft)"
   ]
  },
  {
   "cell_type": "code",
   "execution_count": 46,
   "metadata": {},
   "outputs": [],
   "source": [
    "def atomic_scattering_Fe(q):\n",
    "    a=[11.7695,7.3573,3.5222,2.3045]\n",
    "    b=[4.7611,0.3072,15.3535,76.8805]\n",
    "    c=1.0369\n",
    "    \n",
    "    fjq=0.0\n",
    "    for ai,bi in zip(a,b):\n",
    "        fjq+=ai*np.exp(-bi*q**2)\n",
    "    \n",
    "    return fjq+c"
   ]
  },
  {
   "cell_type": "code",
   "execution_count": 47,
   "metadata": {},
   "outputs": [],
   "source": [
    "def sample_Sq(klist):\n",
    "    print(alata,alatc,Sq_fft.shape)\n",
    "    #q=(2*np.pi/alatc)*np.arange(0.0,10.0,0.01)\n",
    "    Sqq=[]\n",
    "    for i in tqdm(klist):\n",
    "        for j in range(N-1):\n",
    "            for k in range(N-1):\n",
    "                r0=2*np.pi/alata*np.sqrt(i**2+j**2+k**2)\n",
    "                r1=2*np.pi/alata*np.sqrt((i+1)**2+j**2+k**2)\n",
    "                Sq=atomic_scattering_Fe(r0)*Sq_fft[i,j,k]/(4/3*np.pi*(r1**3-r0**3))\n",
    "                Sqq+=[[r0,Sq]]\n",
    "    return Sqq"
   ]
  },
  {
   "cell_type": "code",
   "execution_count": null,
   "metadata": {},
   "outputs": [
    {
     "name": "stdout",
     "output_type": "stream",
     "text": [
      "The number of cores:  8\n",
      "34.44 34.44 (121, 121, 121)\n",
      "34.44 34.44 (121, 121, 121)\n",
      "34.44 34.44 (121, 121, 121)\n",
      "34.44 34.44 (121, 121, 121)\n",
      "34.44 34.44 (121, 121, 121)\n",
      "34.44 34.44 (121, 121, 121)\n",
      "34.44 34.44 (121, 121, 121)\n",
      "34.44 34.44 (121, 121, 121)\n"
     ]
    },
    {
     "data": {
      "application/vnd.jupyter.widget-view+json": {
       "model_id": "0bb07bf786b94073878b8a49f6a7fb1d",
       "version_major": 2,
       "version_minor": 0
      },
      "text/plain": [
       "HBox(children=(FloatProgress(value=0.0, max=15.0), HTML(value='')))"
      ]
     },
     "metadata": {},
     "output_type": "display_data"
    },
    {
     "data": {
      "application/vnd.jupyter.widget-view+json": {
       "model_id": "8d9a143eff4b40b98147db86068a877b",
       "version_major": 2,
       "version_minor": 0
      },
      "text/plain": [
       "HBox(children=(FloatProgress(value=0.0, max=15.0), HTML(value='')))"
      ]
     },
     "metadata": {},
     "output_type": "display_data"
    },
    {
     "data": {
      "application/vnd.jupyter.widget-view+json": {
       "model_id": "83797b5e49ca4613b83c9c221fb001a3",
       "version_major": 2,
       "version_minor": 0
      },
      "text/plain": [
       "HBox(children=(FloatProgress(value=0.0, max=15.0), HTML(value='')))"
      ]
     },
     "metadata": {},
     "output_type": "display_data"
    },
    {
     "data": {
      "application/vnd.jupyter.widget-view+json": {
       "model_id": "1ac6b8cd4c344c0fbe0c15896cdbda89",
       "version_major": 2,
       "version_minor": 0
      },
      "text/plain": [
       "HBox(children=(FloatProgress(value=0.0, max=15.0), HTML(value='')))"
      ]
     },
     "metadata": {},
     "output_type": "display_data"
    },
    {
     "data": {
      "application/vnd.jupyter.widget-view+json": {
       "model_id": "c172612396e445018ed9db8442dcfef5",
       "version_major": 2,
       "version_minor": 0
      },
      "text/plain": [
       "HBox(children=(FloatProgress(value=0.0, max=15.0), HTML(value='')))"
      ]
     },
     "metadata": {},
     "output_type": "display_data"
    },
    {
     "data": {
      "application/vnd.jupyter.widget-view+json": {
       "model_id": "c5239ba26384431486ec66814d5659be",
       "version_major": 2,
       "version_minor": 0
      },
      "text/plain": [
       "HBox(children=(FloatProgress(value=0.0, max=15.0), HTML(value='')))"
      ]
     },
     "metadata": {},
     "output_type": "display_data"
    },
    {
     "data": {
      "application/vnd.jupyter.widget-view+json": {
       "model_id": "3518c0dff2544374af5c5833e9f8c7e7",
       "version_major": 2,
       "version_minor": 0
      },
      "text/plain": [
       "HBox(children=(FloatProgress(value=0.0, max=14.0), HTML(value='')))"
      ]
     },
     "metadata": {},
     "output_type": "display_data"
    },
    {
     "data": {
      "application/vnd.jupyter.widget-view+json": {
       "model_id": "b2750f0365704a89a15227fab6f5680b",
       "version_major": 2,
       "version_minor": 0
      },
      "text/plain": [
       "HBox(children=(FloatProgress(value=0.0, max=15.0), HTML(value='')))"
      ]
     },
     "metadata": {},
     "output_type": "display_data"
    }
   ],
   "source": [
    "num_cores=mp.cpu_count()\n",
    "print(\"The number of cores: \",num_cores)\n",
    "pool=Pool(num_cores)\n",
    "klist_tot=range(N-1)\n",
    "chunks=[klist_tot[i::num_cores] for i in range(num_cores)]\n",
    "\n",
    "Sqql=[]\n",
    "for Sqq_join in pool.map(sample_Sq, chunks):\n",
    "    Sqql+=[Sqq_join]\n",
    "pool.close()\n",
    "\n",
    "#collect and join psiq from each core\n",
    "Sqq=[]\n",
    "for p in Sqql:\n",
    "    for pp in p:\n",
    "        Sqq.append(pp)\n",
    "Sqq=np.array(Sqq)"
   ]
  },
  {
   "cell_type": "code",
   "execution_count": null,
   "metadata": {},
   "outputs": [],
   "source": [
    "q=(2*np.pi/alat_u)*np.arange(0.0,10.0,0.01)\n",
    "Sqqf=np.zeros(q.shape[0])\n",
    "for i in trange(Sqq.shape[0]-1):\n",
    "    j=np.abs(q-Sqq[i,0]).argmin()\n",
    "    Sqqf[j]+=Sqq[i,1]"
   ]
  },
  {
   "cell_type": "code",
   "execution_count": null,
   "metadata": {},
   "outputs": [],
   "source": [
    "peak1=(2*np.pi/alat_u)*np.sqrt(1**2+1**2+0**2) #(1,1,0)\n",
    "peak2=(2*np.pi/alat_u)*np.sqrt(2**2+0**2+0**2) #(2,0,0)\n",
    "peak3=(2*np.pi/alat_u)*np.sqrt(2**2+1**2+1**2) #(2,1,1)\n",
    "peak4=(2*np.pi/alat_u)*np.sqrt(2**2+2**2+0**2) #(2,2,0)\n",
    "peak5=(2*np.pi/alat_u)*np.sqrt(3**2+1**2+0**2) #(3,1,0)\n",
    "peak6=(2*np.pi/alat_u)*np.sqrt(2**2+2**2+2**2) #(2,2,2)\n",
    "\n",
    "peaks=[\n",
    "       [peak1,peak1],\n",
    "       [peak2,peak2],\n",
    "       [peak3,peak3],\n",
    "       [peak4,peak4],\n",
    "       [peak5,peak5],\n",
    "       [peak6,peak6]\n",
    "      ]\n",
    "peak_2=[0,100000]\n",
    "\n",
    "plt.xlim((2*np.pi/alat_u),20)\n",
    "plt.ylim(0,4)\n",
    "plt.tick_params(axis=\"y\", labelsize=12, direction='in')\n",
    "plt.tick_params(axis=\"x\", labelsize=12, direction='in')\n",
    "\n",
    "plt.title('Structure factor S(|q|) of BCC Fe w FFT',fontsize=16)\n",
    "plt.xlabel('|q| ($\\AA^{-1}$)', fontsize=16)\n",
    "plt.ylabel('Structure factor S(|q|)', fontsize=16)\n",
    "\n",
    "\n",
    "plt.plot(q[:-1],Sqqf[:-1]/2000,'-')\n",
    "\n",
    "plt.plot(peaks[0],peak_2,'--',label='hkl=(110)')\n",
    "plt.plot(peaks[1],peak_2,'--',label='hkl=(200)')\n",
    "plt.plot(peaks[2],peak_2,'--',label='hkl=(211)')\n",
    "plt.plot(peaks[3],peak_2,'--',label='hkl=(220)')\n",
    "plt.plot(peaks[4],peak_2,'--',label='hkl=(310)')\n",
    "plt.plot(peaks[5],peak_2,'--',label='hkl=(222)')\n",
    "\n",
    "plt.legend()\n",
    "plt.savefig('sq-fe-bcc-fft.png',dpi=300,bbox_inches = \"tight\")"
   ]
  },
  {
   "cell_type": "code",
   "execution_count": null,
   "metadata": {},
   "outputs": [],
   "source": []
  }
 ],
 "metadata": {
  "kernelspec": {
   "display_name": "Python 3",
   "language": "python",
   "name": "python3"
  },
  "language_info": {
   "codemirror_mode": {
    "name": "ipython",
    "version": 3
   },
   "file_extension": ".py",
   "mimetype": "text/x-python",
   "name": "python",
   "nbconvert_exporter": "python",
   "pygments_lexer": "ipython3",
   "version": "3.7.6"
  }
 },
 "nbformat": 4,
 "nbformat_minor": 4
}
